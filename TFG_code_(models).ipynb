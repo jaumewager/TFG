{
  "cells": [
    {
      "cell_type": "markdown",
      "id": "ab33d90d",
      "metadata": {
        "id": "ab33d90d"
      },
      "source": [
        "# FINAL PROJECT"
      ]
    },
    {
      "cell_type": "code",
      "execution_count": 1,
      "id": "0db7beb8",
      "metadata": {
        "id": "0db7beb8"
      },
      "outputs": [],
      "source": [
        "import pandas as pd\n",
        "import numpy as np\n",
        "import seaborn as sn\n",
        "import matplotlib.pyplot as plt\n",
        "from matplotlib import pyplot\n",
        "from sklearn.model_selection import train_test_split\n",
        "from sklearn.model_selection import cross_val_score\n",
        "from sklearn.model_selection import StratifiedKFold\n",
        "from sklearn.metrics import classification_report, ConfusionMatrixDisplay\n",
        "from sklearn.metrics import confusion_matrix\n",
        "from sklearn.naive_bayes import GaussianNB\n",
        "from sklearn.preprocessing import LabelEncoder, MinMaxScaler\n",
        "import seaborn as sns\n",
        "\n",
        "import random"
      ]
    },
    {
      "cell_type": "code",
      "source": [
        "from google.colab import drive\n",
        "drive.mount('/content/drive')"
      ],
      "metadata": {
        "colab": {
          "base_uri": "https://localhost:8080/"
        },
        "id": "KAnzV4tgmILo",
        "outputId": "eb94c2c5-98e1-487b-b20c-606d51fa2124"
      },
      "id": "KAnzV4tgmILo",
      "execution_count": 2,
      "outputs": [
        {
          "output_type": "stream",
          "name": "stdout",
          "text": [
            "Mounted at /content/drive\n"
          ]
        }
      ]
    },
    {
      "cell_type": "code",
      "source": [
        "import os\n",
        "os.chdir('/content/drive/Shareddrives/TFG/Final TFG dataset')\n",
        "\n",
        "#Reading the different datasets\n",
        "#March 19th\n",
        "avg_rt_df_1 = pd.read_csv('avg_rt_tde_190323_21_23.csv', skiprows=1)\n",
        "connections_df_1 = pd.read_csv('connections_tde_190323_21_23.csv', skiprows=1)\n",
        "cpu_df_1 = pd.read_csv('cpu_tde_190323_21_23.csv', skiprows=1)\n",
        "disk_iops_df_1 = pd.read_csv('disk_iops_tde_190323_21_23.csv', skiprows=1)\n",
        "disk_time_df_1 = pd.read_csv('disk_time_tde_190323_21_23.csv', skiprows=1)\n",
        "disk_throughput_df_1 = pd.read_csv('disk_troughput_tde_190323_21_23.csv', skiprows=1)\n",
        "disk_use_df_1 = pd.read_csv('disk_use_tde_190323_21_23.csv', skiprows=1)\n",
        "#hw_df = pd.read_csv('hw_tde.csv', skiprows=1)\n",
        "network_df_1 = pd.read_csv('network_tde_190323_21_23.csv', skiprows=1)\n",
        "total_request_df_1 = pd.read_csv('total_request_tde_190323_21_23.csv', skiprows=1)\n",
        "avg_bitrate_df_1 = pd.read_csv('avg_bitrate_tde_190323_21_23.csv', skiprows=1)\n",
        "saturations_df_1 = pd.read_csv('saturations_tde_190323_21_23.csv', skiprows=1)\n",
        "capacity_df_1 = pd.read_csv('capacidades_tde_190323_21_23.csv', skiprows=1)\n",
        "\n",
        "#May 9th\n",
        "avg_rt_df_2 = pd.read_csv('avg_rt_tde_090523_21_23.csv')\n",
        "connections_df_2 = pd.read_csv('connections_tde_090523_21_23.csv')\n",
        "cpu_df_2 = pd.read_csv('cpu_tde_090523_21_23.csv')\n",
        "disk_iops_df_2 = pd.read_csv('disk_iops_tde_090523_21_23.csv')\n",
        "disk_time_df_2 = pd.read_csv('disk_time_tde_090523_21_23.csv')\n",
        "disk_throughput_df_2 = pd.read_csv('disk_troughput_tde_090523_21_23.csv')\n",
        "disk_use_df_2 = pd.read_csv('disk_use_tde_090523_21_23.csv')\n",
        "#hw_df = pd.read_csv('hw_tde.csv', skiprows=1)\n",
        "network_df_2 = pd.read_csv('network_tde_090523_21_23.csv')\n",
        "total_request_df_2 = pd.read_csv('total_request_tde_090523_21_23.csv')\n",
        "avg_bitrate_df_2 = pd.read_csv('avg_bitrate_tde_090523_21_23.csv')\n",
        "saturations_df_2 = pd.read_csv('saturations_tde_090523_21_23.csv')\n",
        "capacity_df_2 = pd.read_csv('capacidades_tde_090523_21_23.csv')\n",
        "\n",
        "#May 17th\n",
        "avg_rt_df_3 = pd.read_csv('avg_rt_tde_170523_21_23.csv')\n",
        "connections_df_3 = pd.read_csv('connections_tde_170523_21_23.csv')\n",
        "cpu_df_3 = pd.read_csv('cpu_tde_170523_21_23.csv')\n",
        "disk_iops_df_3 = pd.read_csv('disk_iops_tde_170523_21_23.csv')\n",
        "disk_time_df_3 = pd.read_csv('disk_time_tde_170523_21_23.csv')\n",
        "disk_throughput_df_3 = pd.read_csv('disk_troughput_tde_170523_21_23.csv')\n",
        "disk_use_df_3 = pd.read_csv('disk_use_tde_170523_21_23.csv')\n",
        "#hw_df = pd.read_csv('hw_tde.csv', skiprows=1)\n",
        "network_df_3 = pd.read_csv('network_tde_170523_21_23.csv')\n",
        "total_request_df_3 = pd.read_csv('total_request_tde_170523_21_23.csv')\n",
        "avg_bitrate_df_3 = pd.read_csv('avg_bitrate_tde_170523_21_23.csv')\n",
        "saturations_df_3 = pd.read_csv('saturations_tde_170523_21_23.csv')\n",
        "capacity_df_3 = pd.read_csv('capacidades_tde_170523_21_23.csv')\n",
        "\n",
        "#May 31st\n",
        "avg_rt_df_4 = pd.read_csv('avg_rt_tde_310523_21_00.csv')\n",
        "connections_df_4 = pd.read_csv('connections_tde_310523_21_00.csv')\n",
        "cpu_df_4 = pd.read_csv('cpu_tde_310523_21_00.csv')\n",
        "disk_iops_df_4 = pd.read_csv('disk_iops_tde_310523_21_00.csv')\n",
        "disk_time_df_4 = pd.read_csv('disk_time_tde_310523_21_00.csv')\n",
        "disk_throughput_df_4 = pd.read_csv('disk_troughput_tde_310523_21_00.csv')\n",
        "disk_use_df_4 = pd.read_csv('disk_use_tde_310523_21_00.csv')\n",
        "#hw_df = pd.read_csv('hw_tde.csv', skiprows=1)\n",
        "network_df_4 = pd.read_csv('network_tde_310523_21_00.csv')\n",
        "total_request_df_4 = pd.read_csv('total_request_tde_310523_21_00.csv')\n",
        "avg_bitrate_df_4 = pd.read_csv('avg_bitrate_tde_310523_21_00.csv')\n",
        "saturations_df_4 = pd.read_csv('saturations_tde_310523_21_00.csv')\n",
        "capacity_df_4 = pd.read_csv('capacidades_tde_310523_21_00.csv')"
      ],
      "metadata": {
        "id": "OjDJXk0hl0rj"
      },
      "id": "OjDJXk0hl0rj",
      "execution_count": 3,
      "outputs": []
    },
    {
      "cell_type": "code",
      "source": [
        "#Concatenating te different datasets\n",
        "avg_rt_df = pd.concat([avg_rt_df_1, avg_rt_df_2, avg_rt_df_3, avg_rt_df_4])\n",
        "avg_rt_df = avg_rt_df.reset_index(drop=True)\n",
        "connections_df = pd.concat([connections_df_1, connections_df_2, connections_df_3, connections_df_4])\n",
        "connections_df = connections_df.reset_index(drop=True)\n",
        "cpu_df = pd.concat([cpu_df_1, cpu_df_2, cpu_df_3, cpu_df_4])\n",
        "cpu_df = cpu_df.reset_index(drop=True)\n",
        "disk_iops_df = pd.concat([disk_iops_df_1, disk_iops_df_2, disk_iops_df_3, disk_iops_df_4])\n",
        "disk_iops_df = disk_iops_df.reset_index(drop=True)\n",
        "disk_time_df = pd.concat([disk_time_df_1, disk_time_df_2, disk_time_df_3, disk_time_df_4])\n",
        "disk_time_df = disk_time_df.reset_index(drop=True)\n",
        "disk_throughput_df = pd.concat([disk_throughput_df_1, disk_throughput_df_2, disk_throughput_df_3, disk_throughput_df_4])\n",
        "disk_throughput_df = disk_throughput_df.reset_index(drop=True)\n",
        "disk_use_df = pd.concat([disk_use_df_1, disk_use_df_2, disk_use_df_3, disk_use_df_4])\n",
        "disk_use_df = disk_use_df.reset_index(drop=True)\n",
        "network_df = pd.concat([network_df_1, network_df_2, network_df_3, network_df_4])\n",
        "network_df = network_df.reset_index(drop=True)\n",
        "total_request_df = pd.concat([total_request_df_1, total_request_df_2, total_request_df_3, total_request_df_4])\n",
        "total_request_df = total_request_df.reset_index(drop=True)\n",
        "avg_bitrate_df = pd.concat([avg_bitrate_df_1, avg_bitrate_df_2, avg_bitrate_df_3, avg_bitrate_df_4])\n",
        "avg_bitrate_df = avg_bitrate_df.reset_index(drop=True)\n",
        "saturations_df = pd.concat([saturations_df_1, saturations_df_2, saturations_df_3, saturations_df_4])\n",
        "saturations_df = saturations_df.reset_index(drop=True)\n",
        "capacity_df = pd.concat([capacity_df_1, capacity_df_2, capacity_df_3, capacity_df_4])\n",
        "capacity_df = capacity_df.reset_index(drop=True)"
      ],
      "metadata": {
        "id": "8_6cboqo-it1"
      },
      "id": "8_6cboqo-it1",
      "execution_count": 4,
      "outputs": []
    },
    {
      "cell_type": "code",
      "source": [
        "sample_df = []\n",
        "\n",
        "sample_df.append(avg_rt_df.iloc[:,1])\n",
        "sample_df.append(connections_df.iloc[:,1])\n",
        "sample_df.append(cpu_df.iloc[:,1])\n",
        "sample_df.append(disk_iops_df.iloc[:,1])\n",
        "sample_df.append(disk_time_df.iloc[:,1])\n",
        "sample_df.append(disk_throughput_df.iloc[:,1])\n",
        "sample_df.append(disk_use_df.iloc[:,1])\n",
        "sample_df.append(network_df.iloc[:,1])\n",
        "sample_df.append(total_request_df.iloc[:,1])\n",
        "sample_df.append(avg_bitrate_df.iloc[:,1])\n",
        "sample_df.append(capacity_df.iloc[:,1])\n",
        "\n",
        "\n",
        "sample_df = pd.concat(sample_df, axis=1)"
      ],
      "metadata": {
        "id": "RVmc43Wy9i7m"
      },
      "id": "RVmc43Wy9i7m",
      "execution_count": 12,
      "outputs": []
    },
    {
      "cell_type": "code",
      "source": [
        "#sample_df.insert(0, avg_rt_df.iloc[:,0].name, avg_rt_df.iloc[:,0])\n",
        "sample_df_2 = sample_df.iloc[:, [0, 1, 2, 8, 10]]"
      ],
      "metadata": {
        "id": "SBEDtwVSa831"
      },
      "id": "SBEDtwVSa831",
      "execution_count": 13,
      "outputs": []
    },
    {
      "cell_type": "markdown",
      "source": [
        "##Preprocessing steps"
      ],
      "metadata": {
        "id": "JTMmjXJ0N68W"
      },
      "id": "JTMmjXJ0N68W"
    },
    {
      "cell_type": "code",
      "source": [
        "!pip install tensorflow"
      ],
      "metadata": {
        "id": "kPpUbxZQpI9G"
      },
      "id": "kPpUbxZQpI9G",
      "execution_count": null,
      "outputs": []
    },
    {
      "cell_type": "code",
      "source": [
        "import tensorflow as tf\n",
        "from tensorflow import keras\n",
        "from keras.models import Sequential\n",
        "from keras.layers import LSTM, InputLayer, Dropout, TimeDistributed, Conv1D, GRU\n",
        "from keras.layers.core import Flatten, Dense\n",
        "from tensorflow.keras.callbacks import ModelCheckpoint\n",
        "from tensorflow.keras.losses import MeanSquaredError\n",
        "from tensorflow.keras.metrics import RootMeanSquaredError\n",
        "from tensorflow.keras.optimizers import Adam\n",
        "\n",
        "from sklearn.metrics import mean_squared_error as mse\n",
        "from tensorflow.keras.models import load_model"
      ],
      "metadata": {
        "id": "IVGm4ruKfTd_"
      },
      "id": "IVGm4ruKfTd_",
      "execution_count": 15,
      "outputs": []
    },
    {
      "cell_type": "markdown",
      "source": [
        "###KNNImputer"
      ],
      "metadata": {
        "id": "Coha1ji_zkFC"
      },
      "id": "Coha1ji_zkFC"
    },
    {
      "cell_type": "markdown",
      "source": [
        "Apply KNNImputer to handle missing values"
      ],
      "metadata": {
        "id": "os3rykH5zgGS"
      },
      "id": "os3rykH5zgGS"
    },
    {
      "cell_type": "code",
      "source": [
        "from sklearn.impute import KNNImputer\n",
        "imputer = KNNImputer(n_neighbors=5)\n",
        "sample_df_imputed = pd.DataFrame(imputer.fit_transform(sample_df_2),columns = sample_df_2.columns)"
      ],
      "metadata": {
        "id": "l9Uj82o10S3j"
      },
      "id": "l9Uj82o10S3j",
      "execution_count": 16,
      "outputs": []
    },
    {
      "cell_type": "code",
      "source": [
        "sample_df_imputed.insert(0, avg_rt_df.iloc[:,0].name, avg_rt_df.iloc[:,0])"
      ],
      "metadata": {
        "id": "nzJdqu_oKtdS"
      },
      "id": "nzJdqu_oKtdS",
      "execution_count": 17,
      "outputs": []
    },
    {
      "cell_type": "code",
      "source": [
        "result2 = sample_df_imputed.copy()  # Create a copy of the original DataFrame\n",
        "\n",
        "cumulative_count = np.arange(len(result2))\n",
        "\n",
        "# Calculate the increased time column\n",
        "time_increment = 5000  # Adjust the time increment\n",
        "result2['Time'] = result2['Time'].values[0] + cumulative_count * time_increment\n"
      ],
      "metadata": {
        "id": "lbmhovedlpUr"
      },
      "id": "lbmhovedlpUr",
      "execution_count": 18,
      "outputs": []
    },
    {
      "cell_type": "code",
      "source": [
        "#to datetime\n",
        "result2.iloc[:,0] = result2.iloc[:,0]*1000000\n",
        "result2['Time'] = pd.to_datetime(result2['Time'], format=\"%Y/%m/%d\")\n",
        "sample_df = result2.set_index('Time')\n",
        "sample_df"
      ],
      "metadata": {
        "colab": {
          "base_uri": "https://localhost:8080/",
          "height": 455
        },
        "id": "smDa4JYCXrCY",
        "outputId": "967cd664-dfcf-4492-b73c-9ad169618b89"
      },
      "id": "smDa4JYCXrCY",
      "execution_count": 19,
      "outputs": [
        {
          "output_type": "execute_result",
          "data": {
            "text/plain": [
              "                     avg_rt.ce8mde1-01.live.dash  connections.ce8mde1-01.443  \\\n",
              "Time                                                                           \n",
              "2023-03-19 20:00:00                    32.545933                 4740.000000   \n",
              "2023-03-19 20:00:05                    31.882751                 3508.065257   \n",
              "2023-03-19 20:00:10                    59.347588                 4635.000000   \n",
              "2023-03-19 20:00:15                    31.882751                 3508.065257   \n",
              "2023-03-19 20:00:20                    34.461392                 4453.000000   \n",
              "...                                          ...                         ...   \n",
              "2023-03-20 04:04:35                    30.786127                 3728.200000   \n",
              "2023-03-20 04:04:40                    34.762147                 3290.400000   \n",
              "2023-03-20 04:04:45                    32.702195                 3529.800000   \n",
              "2023-03-20 04:04:50                    16.932007                 3469.400000   \n",
              "2023-03-20 04:04:55                    34.213490                 3749.200000   \n",
              "\n",
              "                     idle.ce8mde1-01  request.ce8mde1-01.live.dash  \\\n",
              "Time                                                                 \n",
              "2023-03-19 20:00:00        14.091024                   9681.000000   \n",
              "2023-03-19 20:00:05        33.696115                   7688.624081   \n",
              "2023-03-19 20:00:10        16.934466                   9737.000000   \n",
              "2023-03-19 20:00:15        33.696115                   7688.624081   \n",
              "2023-03-19 20:00:20        22.889132                   9538.000000   \n",
              "...                              ...                           ...   \n",
              "2023-03-20 04:04:35        35.078138                   7720.200000   \n",
              "2023-03-20 04:04:40        33.473543                   7451.800000   \n",
              "2023-03-20 04:04:45        32.094197                   6704.000000   \n",
              "2023-03-20 04:04:50        39.447997                   8078.600000   \n",
              "2023-03-20 04:04:55        37.368731                   7386.800000   \n",
              "\n",
              "                     global.ce8mde1-01  \n",
              "Time                                    \n",
              "2023-03-19 20:00:00          89.800000  \n",
              "2023-03-19 20:00:05          75.765363  \n",
              "2023-03-19 20:00:10          85.800000  \n",
              "2023-03-19 20:00:15          75.765363  \n",
              "2023-03-19 20:00:20          86.600000  \n",
              "...                                ...  \n",
              "2023-03-20 04:04:35          76.400000  \n",
              "2023-03-20 04:04:40          73.600000  \n",
              "2023-03-20 04:04:45          75.200000  \n",
              "2023-03-20 04:04:50          74.800000  \n",
              "2023-03-20 04:04:55          78.000000  \n",
              "\n",
              "[5820 rows x 5 columns]"
            ],
            "text/html": [
              "\n",
              "  <div id=\"df-da403224-b2b5-44be-a6d7-cfd666833e15\">\n",
              "    <div class=\"colab-df-container\">\n",
              "      <div>\n",
              "<style scoped>\n",
              "    .dataframe tbody tr th:only-of-type {\n",
              "        vertical-align: middle;\n",
              "    }\n",
              "\n",
              "    .dataframe tbody tr th {\n",
              "        vertical-align: top;\n",
              "    }\n",
              "\n",
              "    .dataframe thead th {\n",
              "        text-align: right;\n",
              "    }\n",
              "</style>\n",
              "<table border=\"1\" class=\"dataframe\">\n",
              "  <thead>\n",
              "    <tr style=\"text-align: right;\">\n",
              "      <th></th>\n",
              "      <th>avg_rt.ce8mde1-01.live.dash</th>\n",
              "      <th>connections.ce8mde1-01.443</th>\n",
              "      <th>idle.ce8mde1-01</th>\n",
              "      <th>request.ce8mde1-01.live.dash</th>\n",
              "      <th>global.ce8mde1-01</th>\n",
              "    </tr>\n",
              "    <tr>\n",
              "      <th>Time</th>\n",
              "      <th></th>\n",
              "      <th></th>\n",
              "      <th></th>\n",
              "      <th></th>\n",
              "      <th></th>\n",
              "    </tr>\n",
              "  </thead>\n",
              "  <tbody>\n",
              "    <tr>\n",
              "      <th>2023-03-19 20:00:00</th>\n",
              "      <td>32.545933</td>\n",
              "      <td>4740.000000</td>\n",
              "      <td>14.091024</td>\n",
              "      <td>9681.000000</td>\n",
              "      <td>89.800000</td>\n",
              "    </tr>\n",
              "    <tr>\n",
              "      <th>2023-03-19 20:00:05</th>\n",
              "      <td>31.882751</td>\n",
              "      <td>3508.065257</td>\n",
              "      <td>33.696115</td>\n",
              "      <td>7688.624081</td>\n",
              "      <td>75.765363</td>\n",
              "    </tr>\n",
              "    <tr>\n",
              "      <th>2023-03-19 20:00:10</th>\n",
              "      <td>59.347588</td>\n",
              "      <td>4635.000000</td>\n",
              "      <td>16.934466</td>\n",
              "      <td>9737.000000</td>\n",
              "      <td>85.800000</td>\n",
              "    </tr>\n",
              "    <tr>\n",
              "      <th>2023-03-19 20:00:15</th>\n",
              "      <td>31.882751</td>\n",
              "      <td>3508.065257</td>\n",
              "      <td>33.696115</td>\n",
              "      <td>7688.624081</td>\n",
              "      <td>75.765363</td>\n",
              "    </tr>\n",
              "    <tr>\n",
              "      <th>2023-03-19 20:00:20</th>\n",
              "      <td>34.461392</td>\n",
              "      <td>4453.000000</td>\n",
              "      <td>22.889132</td>\n",
              "      <td>9538.000000</td>\n",
              "      <td>86.600000</td>\n",
              "    </tr>\n",
              "    <tr>\n",
              "      <th>...</th>\n",
              "      <td>...</td>\n",
              "      <td>...</td>\n",
              "      <td>...</td>\n",
              "      <td>...</td>\n",
              "      <td>...</td>\n",
              "    </tr>\n",
              "    <tr>\n",
              "      <th>2023-03-20 04:04:35</th>\n",
              "      <td>30.786127</td>\n",
              "      <td>3728.200000</td>\n",
              "      <td>35.078138</td>\n",
              "      <td>7720.200000</td>\n",
              "      <td>76.400000</td>\n",
              "    </tr>\n",
              "    <tr>\n",
              "      <th>2023-03-20 04:04:40</th>\n",
              "      <td>34.762147</td>\n",
              "      <td>3290.400000</td>\n",
              "      <td>33.473543</td>\n",
              "      <td>7451.800000</td>\n",
              "      <td>73.600000</td>\n",
              "    </tr>\n",
              "    <tr>\n",
              "      <th>2023-03-20 04:04:45</th>\n",
              "      <td>32.702195</td>\n",
              "      <td>3529.800000</td>\n",
              "      <td>32.094197</td>\n",
              "      <td>6704.000000</td>\n",
              "      <td>75.200000</td>\n",
              "    </tr>\n",
              "    <tr>\n",
              "      <th>2023-03-20 04:04:50</th>\n",
              "      <td>16.932007</td>\n",
              "      <td>3469.400000</td>\n",
              "      <td>39.447997</td>\n",
              "      <td>8078.600000</td>\n",
              "      <td>74.800000</td>\n",
              "    </tr>\n",
              "    <tr>\n",
              "      <th>2023-03-20 04:04:55</th>\n",
              "      <td>34.213490</td>\n",
              "      <td>3749.200000</td>\n",
              "      <td>37.368731</td>\n",
              "      <td>7386.800000</td>\n",
              "      <td>78.000000</td>\n",
              "    </tr>\n",
              "  </tbody>\n",
              "</table>\n",
              "<p>5820 rows × 5 columns</p>\n",
              "</div>\n",
              "      <button class=\"colab-df-convert\" onclick=\"convertToInteractive('df-da403224-b2b5-44be-a6d7-cfd666833e15')\"\n",
              "              title=\"Convert this dataframe to an interactive table.\"\n",
              "              style=\"display:none;\">\n",
              "        \n",
              "  <svg xmlns=\"http://www.w3.org/2000/svg\" height=\"24px\"viewBox=\"0 0 24 24\"\n",
              "       width=\"24px\">\n",
              "    <path d=\"M0 0h24v24H0V0z\" fill=\"none\"/>\n",
              "    <path d=\"M18.56 5.44l.94 2.06.94-2.06 2.06-.94-2.06-.94-.94-2.06-.94 2.06-2.06.94zm-11 1L8.5 8.5l.94-2.06 2.06-.94-2.06-.94L8.5 2.5l-.94 2.06-2.06.94zm10 10l.94 2.06.94-2.06 2.06-.94-2.06-.94-.94-2.06-.94 2.06-2.06.94z\"/><path d=\"M17.41 7.96l-1.37-1.37c-.4-.4-.92-.59-1.43-.59-.52 0-1.04.2-1.43.59L10.3 9.45l-7.72 7.72c-.78.78-.78 2.05 0 2.83L4 21.41c.39.39.9.59 1.41.59.51 0 1.02-.2 1.41-.59l7.78-7.78 2.81-2.81c.8-.78.8-2.07 0-2.86zM5.41 20L4 18.59l7.72-7.72 1.47 1.35L5.41 20z\"/>\n",
              "  </svg>\n",
              "      </button>\n",
              "      \n",
              "  <style>\n",
              "    .colab-df-container {\n",
              "      display:flex;\n",
              "      flex-wrap:wrap;\n",
              "      gap: 12px;\n",
              "    }\n",
              "\n",
              "    .colab-df-convert {\n",
              "      background-color: #E8F0FE;\n",
              "      border: none;\n",
              "      border-radius: 50%;\n",
              "      cursor: pointer;\n",
              "      display: none;\n",
              "      fill: #1967D2;\n",
              "      height: 32px;\n",
              "      padding: 0 0 0 0;\n",
              "      width: 32px;\n",
              "    }\n",
              "\n",
              "    .colab-df-convert:hover {\n",
              "      background-color: #E2EBFA;\n",
              "      box-shadow: 0px 1px 2px rgba(60, 64, 67, 0.3), 0px 1px 3px 1px rgba(60, 64, 67, 0.15);\n",
              "      fill: #174EA6;\n",
              "    }\n",
              "\n",
              "    [theme=dark] .colab-df-convert {\n",
              "      background-color: #3B4455;\n",
              "      fill: #D2E3FC;\n",
              "    }\n",
              "\n",
              "    [theme=dark] .colab-df-convert:hover {\n",
              "      background-color: #434B5C;\n",
              "      box-shadow: 0px 1px 3px 1px rgba(0, 0, 0, 0.15);\n",
              "      filter: drop-shadow(0px 1px 2px rgba(0, 0, 0, 0.3));\n",
              "      fill: #FFFFFF;\n",
              "    }\n",
              "  </style>\n",
              "\n",
              "      <script>\n",
              "        const buttonEl =\n",
              "          document.querySelector('#df-da403224-b2b5-44be-a6d7-cfd666833e15 button.colab-df-convert');\n",
              "        buttonEl.style.display =\n",
              "          google.colab.kernel.accessAllowed ? 'block' : 'none';\n",
              "\n",
              "        async function convertToInteractive(key) {\n",
              "          const element = document.querySelector('#df-da403224-b2b5-44be-a6d7-cfd666833e15');\n",
              "          const dataTable =\n",
              "            await google.colab.kernel.invokeFunction('convertToInteractive',\n",
              "                                                     [key], {});\n",
              "          if (!dataTable) return;\n",
              "\n",
              "          const docLinkHtml = 'Like what you see? Visit the ' +\n",
              "            '<a target=\"_blank\" href=https://colab.research.google.com/notebooks/data_table.ipynb>data table notebook</a>'\n",
              "            + ' to learn more about interactive tables.';\n",
              "          element.innerHTML = '';\n",
              "          dataTable['output_type'] = 'display_data';\n",
              "          await google.colab.output.renderOutput(dataTable, element);\n",
              "          const docLink = document.createElement('div');\n",
              "          docLink.innerHTML = docLinkHtml;\n",
              "          element.appendChild(docLink);\n",
              "        }\n",
              "      </script>\n",
              "    </div>\n",
              "  </div>\n",
              "  "
            ]
          },
          "metadata": {},
          "execution_count": 19
        }
      ]
    },
    {
      "cell_type": "markdown",
      "source": [
        "###Smoothing average"
      ],
      "metadata": {
        "id": "J-Za_4pYfaPe"
      },
      "id": "J-Za_4pYfaPe"
    },
    {
      "cell_type": "code",
      "source": [
        "window_size = 3\n",
        "smoothed_column = sample_df.iloc[:,4].rolling(window=window_size, min_periods=1).mean()\n",
        "sample_df.iloc[:,4] = smoothed_column"
      ],
      "metadata": {
        "id": "fCJitSpGEPF5"
      },
      "id": "fCJitSpGEPF5",
      "execution_count": 20,
      "outputs": []
    },
    {
      "cell_type": "code",
      "source": [
        "sample_df"
      ],
      "metadata": {
        "colab": {
          "base_uri": "https://localhost:8080/",
          "height": 455
        },
        "id": "SaCm2yoXEf8A",
        "outputId": "c112b64a-67c9-4544-b1b1-7abb27d88933"
      },
      "id": "SaCm2yoXEf8A",
      "execution_count": 21,
      "outputs": [
        {
          "output_type": "execute_result",
          "data": {
            "text/plain": [
              "                     avg_rt.ce8mde1-01.live.dash  connections.ce8mde1-01.443  \\\n",
              "Time                                                                           \n",
              "2023-03-19 20:00:00                    32.545933                 4740.000000   \n",
              "2023-03-19 20:00:05                    31.882751                 3508.065257   \n",
              "2023-03-19 20:00:10                    59.347588                 4635.000000   \n",
              "2023-03-19 20:00:15                    31.882751                 3508.065257   \n",
              "2023-03-19 20:00:20                    34.461392                 4453.000000   \n",
              "...                                          ...                         ...   \n",
              "2023-03-20 04:04:35                    30.786127                 3728.200000   \n",
              "2023-03-20 04:04:40                    34.762147                 3290.400000   \n",
              "2023-03-20 04:04:45                    32.702195                 3529.800000   \n",
              "2023-03-20 04:04:50                    16.932007                 3469.400000   \n",
              "2023-03-20 04:04:55                    34.213490                 3749.200000   \n",
              "\n",
              "                     idle.ce8mde1-01  request.ce8mde1-01.live.dash  \\\n",
              "Time                                                                 \n",
              "2023-03-19 20:00:00        14.091024                   9681.000000   \n",
              "2023-03-19 20:00:05        33.696115                   7688.624081   \n",
              "2023-03-19 20:00:10        16.934466                   9737.000000   \n",
              "2023-03-19 20:00:15        33.696115                   7688.624081   \n",
              "2023-03-19 20:00:20        22.889132                   9538.000000   \n",
              "...                              ...                           ...   \n",
              "2023-03-20 04:04:35        35.078138                   7720.200000   \n",
              "2023-03-20 04:04:40        33.473543                   7451.800000   \n",
              "2023-03-20 04:04:45        32.094197                   6704.000000   \n",
              "2023-03-20 04:04:50        39.447997                   8078.600000   \n",
              "2023-03-20 04:04:55        37.368731                   7386.800000   \n",
              "\n",
              "                     global.ce8mde1-01  \n",
              "Time                                    \n",
              "2023-03-19 20:00:00          89.800000  \n",
              "2023-03-19 20:00:05          82.782682  \n",
              "2023-03-19 20:00:10          83.788454  \n",
              "2023-03-19 20:00:15          79.110242  \n",
              "2023-03-19 20:00:20          82.721788  \n",
              "...                                ...  \n",
              "2023-03-20 04:04:35          75.400000  \n",
              "2023-03-20 04:04:40          76.800000  \n",
              "2023-03-20 04:04:45          75.066667  \n",
              "2023-03-20 04:04:50          74.533333  \n",
              "2023-03-20 04:04:55          76.000000  \n",
              "\n",
              "[5820 rows x 5 columns]"
            ],
            "text/html": [
              "\n",
              "  <div id=\"df-14e9275d-a444-48c0-adb2-b9ca04c738d4\">\n",
              "    <div class=\"colab-df-container\">\n",
              "      <div>\n",
              "<style scoped>\n",
              "    .dataframe tbody tr th:only-of-type {\n",
              "        vertical-align: middle;\n",
              "    }\n",
              "\n",
              "    .dataframe tbody tr th {\n",
              "        vertical-align: top;\n",
              "    }\n",
              "\n",
              "    .dataframe thead th {\n",
              "        text-align: right;\n",
              "    }\n",
              "</style>\n",
              "<table border=\"1\" class=\"dataframe\">\n",
              "  <thead>\n",
              "    <tr style=\"text-align: right;\">\n",
              "      <th></th>\n",
              "      <th>avg_rt.ce8mde1-01.live.dash</th>\n",
              "      <th>connections.ce8mde1-01.443</th>\n",
              "      <th>idle.ce8mde1-01</th>\n",
              "      <th>request.ce8mde1-01.live.dash</th>\n",
              "      <th>global.ce8mde1-01</th>\n",
              "    </tr>\n",
              "    <tr>\n",
              "      <th>Time</th>\n",
              "      <th></th>\n",
              "      <th></th>\n",
              "      <th></th>\n",
              "      <th></th>\n",
              "      <th></th>\n",
              "    </tr>\n",
              "  </thead>\n",
              "  <tbody>\n",
              "    <tr>\n",
              "      <th>2023-03-19 20:00:00</th>\n",
              "      <td>32.545933</td>\n",
              "      <td>4740.000000</td>\n",
              "      <td>14.091024</td>\n",
              "      <td>9681.000000</td>\n",
              "      <td>89.800000</td>\n",
              "    </tr>\n",
              "    <tr>\n",
              "      <th>2023-03-19 20:00:05</th>\n",
              "      <td>31.882751</td>\n",
              "      <td>3508.065257</td>\n",
              "      <td>33.696115</td>\n",
              "      <td>7688.624081</td>\n",
              "      <td>82.782682</td>\n",
              "    </tr>\n",
              "    <tr>\n",
              "      <th>2023-03-19 20:00:10</th>\n",
              "      <td>59.347588</td>\n",
              "      <td>4635.000000</td>\n",
              "      <td>16.934466</td>\n",
              "      <td>9737.000000</td>\n",
              "      <td>83.788454</td>\n",
              "    </tr>\n",
              "    <tr>\n",
              "      <th>2023-03-19 20:00:15</th>\n",
              "      <td>31.882751</td>\n",
              "      <td>3508.065257</td>\n",
              "      <td>33.696115</td>\n",
              "      <td>7688.624081</td>\n",
              "      <td>79.110242</td>\n",
              "    </tr>\n",
              "    <tr>\n",
              "      <th>2023-03-19 20:00:20</th>\n",
              "      <td>34.461392</td>\n",
              "      <td>4453.000000</td>\n",
              "      <td>22.889132</td>\n",
              "      <td>9538.000000</td>\n",
              "      <td>82.721788</td>\n",
              "    </tr>\n",
              "    <tr>\n",
              "      <th>...</th>\n",
              "      <td>...</td>\n",
              "      <td>...</td>\n",
              "      <td>...</td>\n",
              "      <td>...</td>\n",
              "      <td>...</td>\n",
              "    </tr>\n",
              "    <tr>\n",
              "      <th>2023-03-20 04:04:35</th>\n",
              "      <td>30.786127</td>\n",
              "      <td>3728.200000</td>\n",
              "      <td>35.078138</td>\n",
              "      <td>7720.200000</td>\n",
              "      <td>75.400000</td>\n",
              "    </tr>\n",
              "    <tr>\n",
              "      <th>2023-03-20 04:04:40</th>\n",
              "      <td>34.762147</td>\n",
              "      <td>3290.400000</td>\n",
              "      <td>33.473543</td>\n",
              "      <td>7451.800000</td>\n",
              "      <td>76.800000</td>\n",
              "    </tr>\n",
              "    <tr>\n",
              "      <th>2023-03-20 04:04:45</th>\n",
              "      <td>32.702195</td>\n",
              "      <td>3529.800000</td>\n",
              "      <td>32.094197</td>\n",
              "      <td>6704.000000</td>\n",
              "      <td>75.066667</td>\n",
              "    </tr>\n",
              "    <tr>\n",
              "      <th>2023-03-20 04:04:50</th>\n",
              "      <td>16.932007</td>\n",
              "      <td>3469.400000</td>\n",
              "      <td>39.447997</td>\n",
              "      <td>8078.600000</td>\n",
              "      <td>74.533333</td>\n",
              "    </tr>\n",
              "    <tr>\n",
              "      <th>2023-03-20 04:04:55</th>\n",
              "      <td>34.213490</td>\n",
              "      <td>3749.200000</td>\n",
              "      <td>37.368731</td>\n",
              "      <td>7386.800000</td>\n",
              "      <td>76.000000</td>\n",
              "    </tr>\n",
              "  </tbody>\n",
              "</table>\n",
              "<p>5820 rows × 5 columns</p>\n",
              "</div>\n",
              "      <button class=\"colab-df-convert\" onclick=\"convertToInteractive('df-14e9275d-a444-48c0-adb2-b9ca04c738d4')\"\n",
              "              title=\"Convert this dataframe to an interactive table.\"\n",
              "              style=\"display:none;\">\n",
              "        \n",
              "  <svg xmlns=\"http://www.w3.org/2000/svg\" height=\"24px\"viewBox=\"0 0 24 24\"\n",
              "       width=\"24px\">\n",
              "    <path d=\"M0 0h24v24H0V0z\" fill=\"none\"/>\n",
              "    <path d=\"M18.56 5.44l.94 2.06.94-2.06 2.06-.94-2.06-.94-.94-2.06-.94 2.06-2.06.94zm-11 1L8.5 8.5l.94-2.06 2.06-.94-2.06-.94L8.5 2.5l-.94 2.06-2.06.94zm10 10l.94 2.06.94-2.06 2.06-.94-2.06-.94-.94-2.06-.94 2.06-2.06.94z\"/><path d=\"M17.41 7.96l-1.37-1.37c-.4-.4-.92-.59-1.43-.59-.52 0-1.04.2-1.43.59L10.3 9.45l-7.72 7.72c-.78.78-.78 2.05 0 2.83L4 21.41c.39.39.9.59 1.41.59.51 0 1.02-.2 1.41-.59l7.78-7.78 2.81-2.81c.8-.78.8-2.07 0-2.86zM5.41 20L4 18.59l7.72-7.72 1.47 1.35L5.41 20z\"/>\n",
              "  </svg>\n",
              "      </button>\n",
              "      \n",
              "  <style>\n",
              "    .colab-df-container {\n",
              "      display:flex;\n",
              "      flex-wrap:wrap;\n",
              "      gap: 12px;\n",
              "    }\n",
              "\n",
              "    .colab-df-convert {\n",
              "      background-color: #E8F0FE;\n",
              "      border: none;\n",
              "      border-radius: 50%;\n",
              "      cursor: pointer;\n",
              "      display: none;\n",
              "      fill: #1967D2;\n",
              "      height: 32px;\n",
              "      padding: 0 0 0 0;\n",
              "      width: 32px;\n",
              "    }\n",
              "\n",
              "    .colab-df-convert:hover {\n",
              "      background-color: #E2EBFA;\n",
              "      box-shadow: 0px 1px 2px rgba(60, 64, 67, 0.3), 0px 1px 3px 1px rgba(60, 64, 67, 0.15);\n",
              "      fill: #174EA6;\n",
              "    }\n",
              "\n",
              "    [theme=dark] .colab-df-convert {\n",
              "      background-color: #3B4455;\n",
              "      fill: #D2E3FC;\n",
              "    }\n",
              "\n",
              "    [theme=dark] .colab-df-convert:hover {\n",
              "      background-color: #434B5C;\n",
              "      box-shadow: 0px 1px 3px 1px rgba(0, 0, 0, 0.15);\n",
              "      filter: drop-shadow(0px 1px 2px rgba(0, 0, 0, 0.3));\n",
              "      fill: #FFFFFF;\n",
              "    }\n",
              "  </style>\n",
              "\n",
              "      <script>\n",
              "        const buttonEl =\n",
              "          document.querySelector('#df-14e9275d-a444-48c0-adb2-b9ca04c738d4 button.colab-df-convert');\n",
              "        buttonEl.style.display =\n",
              "          google.colab.kernel.accessAllowed ? 'block' : 'none';\n",
              "\n",
              "        async function convertToInteractive(key) {\n",
              "          const element = document.querySelector('#df-14e9275d-a444-48c0-adb2-b9ca04c738d4');\n",
              "          const dataTable =\n",
              "            await google.colab.kernel.invokeFunction('convertToInteractive',\n",
              "                                                     [key], {});\n",
              "          if (!dataTable) return;\n",
              "\n",
              "          const docLinkHtml = 'Like what you see? Visit the ' +\n",
              "            '<a target=\"_blank\" href=https://colab.research.google.com/notebooks/data_table.ipynb>data table notebook</a>'\n",
              "            + ' to learn more about interactive tables.';\n",
              "          element.innerHTML = '';\n",
              "          dataTable['output_type'] = 'display_data';\n",
              "          await google.colab.output.renderOutput(dataTable, element);\n",
              "          const docLink = document.createElement('div');\n",
              "          docLink.innerHTML = docLinkHtml;\n",
              "          element.appendChild(docLink);\n",
              "        }\n",
              "      </script>\n",
              "    </div>\n",
              "  </div>\n",
              "  "
            ]
          },
          "metadata": {},
          "execution_count": 21
        }
      ]
    },
    {
      "cell_type": "markdown",
      "source": [
        "###Select column to predict, convert df to supervised learning, split into train, validate and test data"
      ],
      "metadata": {
        "id": "TnbdyVjxO1EH"
      },
      "id": "TnbdyVjxO1EH"
    },
    {
      "cell_type": "code",
      "metadata": {
        "colab": {
          "base_uri": "https://localhost:8080/",
          "height": 483
        },
        "id": "3fWZ3nYxS3oe",
        "outputId": "4eb9ffbc-7f24-4cb5-c2dd-f3f89f1a59a9"
      },
      "source": [
        "sat = sample_df['global.ce8mde1-01']\n",
        "sat.plot()"
      ],
      "execution_count": 22,
      "outputs": [
        {
          "output_type": "execute_result",
          "data": {
            "text/plain": [
              "<Axes: xlabel='Time'>"
            ]
          },
          "metadata": {},
          "execution_count": 22
        },
        {
          "output_type": "display_data",
          "data": {
            "text/plain": [
              "<Figure size 640x480 with 1 Axes>"
            ],
            "image/png": "[encoded data removed]"
          },
          "metadata": {}
        }
      ],
      "id": "3fWZ3nYxS3oe"
    },
    {
      "cell_type": "code",
      "metadata": {
        "id": "bY2yEu2QTBXP"
      },
      "source": [
        "def df_to_supervised(df, window_size=5):\n",
        "  numpy_df = df.to_numpy()\n",
        "  X = []\n",
        "  y = []\n",
        "  for i in range(len(numpy_df)-window_size):\n",
        "    row = [[a] for a in numpy_df[i:i+window_size]]\n",
        "    X.append(row)\n",
        "    label = numpy_df[i+window_size]\n",
        "    y.append(label)\n",
        "  return np.array(X), np.array(y)"
      ],
      "execution_count": 23,
      "outputs": [],
      "id": "bY2yEu2QTBXP"
    },
    {
      "cell_type": "code",
      "metadata": {
        "id": "qhGUH0NoV9Zq"
      },
      "source": [
        "WINDOW_SIZE = 5\n",
        "X1, y1 = df_to_supervised(sat, WINDOW_SIZE)"
      ],
      "execution_count": 24,
      "outputs": [],
      "id": "qhGUH0NoV9Zq"
    },
    {
      "cell_type": "code",
      "source": [
        "X1_train, y1_train = X1[:np.floor(.80*len(X1)).astype(int)], y1[:np.floor(.80*len(X1)).astype(int)]\n",
        "X1_val, y1_val = X1[np.floor(.80*len(X1)).astype(int):np.floor(.90*len(X1)).astype(int)], y1[np.floor(.80*len(X1)).astype(int):np.floor(.90*len(X1)).astype(int)]\n",
        "X1_test, y1_test = X1[np.floor(.90*len(X1)).astype(int):], y1[np.floor(.90*len(X1)).astype(int):]"
      ],
      "metadata": {
        "id": "8iXS9Pcx_t5p"
      },
      "id": "8iXS9Pcx_t5p",
      "execution_count": 25,
      "outputs": []
    },
    {
      "cell_type": "markdown",
      "source": [
        "## Univariate LSTM (Long Short-Term Memory)"
      ],
      "metadata": {
        "id": "p47QNXG4V4SO"
      },
      "id": "p47QNXG4V4SO"
    },
    {
      "cell_type": "code",
      "source": [
        "def get_lstm_model():\n",
        "  model = Sequential()\n",
        "  model.add(InputLayer((5, 1)))\n",
        "  model.add(LSTM(64))\n",
        "  model.add(Dense(8, 'relu'))\n",
        "  model.add(Dense(1, 'linear'))\n",
        "  model.compile(loss=MeanSquaredError(), optimizer=Adam(learning_rate=0.001), metrics=[RootMeanSquaredError()])\n",
        "  return model"
      ],
      "metadata": {
        "id": "cCOGkLmSAObX"
      },
      "id": "cCOGkLmSAObX",
      "execution_count": null,
      "outputs": []
    },
    {
      "cell_type": "code",
      "source": [
        "lstm_model = get_lstm_model()\n",
        "lstm_model.summary()"
      ],
      "metadata": {
        "colab": {
          "base_uri": "https://localhost:8080/"
        },
        "id": "32nMOUiaZWT4",
        "outputId": "17cba2a6-21fc-4f00-df00-c13197b77849"
      },
      "id": "32nMOUiaZWT4",
      "execution_count": null,
      "outputs": [
        {
          "output_type": "stream",
          "name": "stdout",
          "text": [
            "Model: \"sequential_14\"\n",
            "_________________________________________________________________\n",
            " Layer (type)                Output Shape              Param #   \n",
            "=================================================================\n",
            " lstm_5 (LSTM)               (None, 64)                16896     \n",
            "                                                                 \n",
            " dense_26 (Dense)            (None, 8)                 520       \n",
            "                                                                 \n",
            " dense_27 (Dense)            (None, 1)                 9         \n",
            "                                                                 \n",
            "=================================================================\n",
            "Total params: 17,425\n",
            "Trainable params: 17,425\n",
            "Non-trainable params: 0\n",
            "_________________________________________________________________\n"
          ]
        }
      ]
    },
    {
      "cell_type": "code",
      "metadata": {
        "id": "CWeSakSwYLtr",
        "colab": {
          "base_uri": "https://localhost:8080/"
        },
        "outputId": "728de534-a78e-40a3-9f2e-be162db7295b"
      },
      "source": [
        "lstm_checkpoint = ModelCheckpoint('lstm_model/', save_best_only=True)\n",
        "lstm_model.fit(X1_train, y1_train, validation_data=(X1_val, y1_val), epochs=30, batch_size=32, callbacks=[lstm_checkpoint])"
      ],
      "execution_count": null,
      "outputs": [
        {
          "output_type": "stream",
          "name": "stdout",
          "text": [
            "Epoch 1/30\n",
            "145/146 [============================>.] - ETA: 0s - loss: 4721.6333 - root_mean_squared_error: 68.7141"
          ]
        },
        {
          "output_type": "stream",
          "name": "stderr",
          "text": [
            "WARNING:absl:Found untraced functions such as _update_step_xla, lstm_cell_7_layer_call_fn, lstm_cell_7_layer_call_and_return_conditional_losses while saving (showing 3 of 3). These functions will not be directly callable after loading.\n"
          ]
        },
        {
          "output_type": "stream",
          "name": "stdout",
          "text": [
            "\b\b\b\b\b\b\b\b\b\b\b\b\b\b\b\b\b\b\b\b\b\b\b\b\b\b\b\b\b\b\b\b\b\b\b\b\b\b\b\b\b\b\b\b\b\b\b\b\b\b\b\b\b\b\b\b\b\b\b\b\b\b\b\b\b\b\b\b\b\b\b\b\b\b\b\b\b\b\b\b\b\b\b\b\b\b\b\b\b\b\b\b\b\b\b\b\b\b\b\b\b\b\b\r146/146 [==============================] - 12s 62ms/step - loss: 4716.8232 - root_mean_squared_error: 68.6791 - val_loss: 2504.5901 - val_root_mean_squared_error: 50.0459\n",
            "Epoch 2/30\n",
            "141/146 [===========================>..] - ETA: 0s - loss: 1588.0095 - root_mean_squared_error: 39.8498"
          ]
        },
        {
          "output_type": "stream",
          "name": "stderr",
          "text": [
            "WARNING:absl:Found untraced functions such as _update_step_xla, lstm_cell_7_layer_call_fn, lstm_cell_7_layer_call_and_return_conditional_losses while saving (showing 3 of 3). These functions will not be directly callable after loading.\n"
          ]
        },
        {
          "output_type": "stream",
          "name": "stdout",
          "text": [
            "\b\b\b\b\b\b\b\b\b\b\b\b\b\b\b\b\b\b\b\b\b\b\b\b\b\b\b\b\b\b\b\b\b\b\b\b\b\b\b\b\b\b\b\b\b\b\b\b\b\b\b\b\b\b\b\b\b\b\b\b\b\b\b\b\b\b\b\b\b\b\b\b\b\b\b\b\b\b\b\b\b\b\b\b\b\b\b\b\b\b\b\b\b\b\b\b\b\b\b\b\b\b\b\r146/146 [==============================] - 6s 44ms/step - loss: 1558.7576 - root_mean_squared_error: 39.4811 - val_loss: 436.8082 - val_root_mean_squared_error: 20.9000\n",
            "Epoch 3/30\n",
            "145/146 [============================>.] - ETA: 0s - loss: 212.2946 - root_mean_squared_error: 14.5703"
          ]
        },
        {
          "output_type": "stream",
          "name": "stderr",
          "text": [
            "WARNING:absl:Found untraced functions such as _update_step_xla, lstm_cell_7_layer_call_fn, lstm_cell_7_layer_call_and_return_conditional_losses while saving (showing 3 of 3). These functions will not be directly callable after loading.\n"
          ]
        },
        {
          "output_type": "stream",
          "name": "stdout",
          "text": [
            "\b\b\b\b\b\b\b\b\b\b\b\b\b\b\b\b\b\b\b\b\b\b\b\b\b\b\b\b\b\b\b\b\b\b\b\b\b\b\b\b\b\b\b\b\b\b\b\b\b\b\b\b\b\b\b\b\b\b\b\b\b\b\b\b\b\b\b\b\b\b\b\b\b\b\b\b\b\b\b\b\b\b\b\b\b\b\b\b\b\b\b\b\b\b\b\b\b\b\b\b\b\b\r146/146 [==============================] - 7s 47ms/step - loss: 211.8321 - root_mean_squared_error: 14.5545 - val_loss: 17.7388 - val_root_mean_squared_error: 4.2117\n",
            "Epoch 4/30\n",
            "146/146 [==============================] - 1s 8ms/step - loss: 16.0327 - root_mean_squared_error: 4.0041 - val_loss: 20.4688 - val_root_mean_squared_error: 4.5242\n",
            "Epoch 5/30\n",
            "146/146 [==============================] - 1s 8ms/step - loss: 9.4509 - root_mean_squared_error: 3.0742 - val_loss: 22.4586 - val_root_mean_squared_error: 4.7391\n",
            "Epoch 6/30\n",
            "138/146 [===========================>..] - ETA: 0s - loss: 8.0585 - root_mean_squared_error: 2.8387"
          ]
        },
        {
          "output_type": "stream",
          "name": "stderr",
          "text": [
            "WARNING:absl:Found untraced functions such as _update_step_xla, lstm_cell_7_layer_call_fn, lstm_cell_7_layer_call_and_return_conditional_losses while saving (showing 3 of 3). These functions will not be directly callable after loading.\n"
          ]
        },
        {
          "output_type": "stream",
          "name": "stdout",
          "text": [
            "\b\b\b\b\b\b\b\b\b\b\b\b\b\b\b\b\b\b\b\b\b\b\b\b\b\b\b\b\b\b\b\b\b\b\b\b\b\b\b\b\b\b\b\b\b\b\b\b\b\b\b\b\b\b\b\b\b\b\b\b\b\b\b\b\b\b\b\b\b\b\b\b\b\b\b\b\b\b\b\b\b\b\b\b\b\b\b\b\b\b\b\b\b\b\b\b\b\b\b\r146/146 [==============================] - 6s 43ms/step - loss: 7.9379 - root_mean_squared_error: 2.8174 - val_loss: 16.1306 - val_root_mean_squared_error: 4.0163\n",
            "Epoch 7/30\n",
            "139/146 [===========================>..] - ETA: 0s - loss: 5.5321 - root_mean_squared_error: 2.3520"
          ]
        },
        {
          "output_type": "stream",
          "name": "stderr",
          "text": [
            "WARNING:absl:Found untraced functions such as _update_step_xla, lstm_cell_7_layer_call_fn, lstm_cell_7_layer_call_and_return_conditional_losses while saving (showing 3 of 3). These functions will not be directly callable after loading.\n"
          ]
        },
        {
          "output_type": "stream",
          "name": "stdout",
          "text": [
            "\b\b\b\b\b\b\b\b\b\b\b\b\b\b\b\b\b\b\b\b\b\b\b\b\b\b\b\b\b\b\b\b\b\b\b\b\b\b\b\b\b\b\b\b\b\b\b\b\b\b\b\b\b\b\b\b\b\b\b\b\b\b\b\b\b\b\b\b\b\b\b\b\b\b\b\b\b\b\b\b\b\b\b\b\b\b\b\b\b\b\b\b\b\b\b\b\b\b\b\r146/146 [==============================] - 7s 47ms/step - loss: 5.4910 - root_mean_squared_error: 2.3433 - val_loss: 4.2998 - val_root_mean_squared_error: 2.0736\n",
            "Epoch 8/30\n",
            "140/146 [===========================>..] - ETA: 0s - loss: 3.7959 - root_mean_squared_error: 1.9483"
          ]
        },
        {
          "output_type": "stream",
          "name": "stderr",
          "text": [
            "WARNING:absl:Found untraced functions such as _update_step_xla, lstm_cell_7_layer_call_fn, lstm_cell_7_layer_call_and_return_conditional_losses while saving (showing 3 of 3). These functions will not be directly callable after loading.\n"
          ]
        },
        {
          "output_type": "stream",
          "name": "stdout",
          "text": [
            "\b\b\b\b\b\b\b\b\b\b\b\b\b\b\b\b\b\b\b\b\b\b\b\b\b\b\b\b\b\b\b\b\b\b\b\b\b\b\b\b\b\b\b\b\b\b\b\b\b\b\b\b\b\b\b\b\b\b\b\b\b\b\b\b\b\b\b\b\b\b\b\b\b\b\b\b\b\b\b\b\b\b\b\b\b\b\b\b\b\b\b\b\b\b\b\b\b\b\b\r146/146 [==============================] - 6s 44ms/step - loss: 3.7732 - root_mean_squared_error: 1.9425 - val_loss: 3.4774 - val_root_mean_squared_error: 1.8648\n",
            "Epoch 9/30\n",
            "146/146 [==============================] - 1s 6ms/step - loss: 3.3501 - root_mean_squared_error: 1.8303 - val_loss: 4.0384 - val_root_mean_squared_error: 2.0096\n",
            "Epoch 10/30\n",
            "142/146 [============================>.] - ETA: 0s - loss: 3.0613 - root_mean_squared_error: 1.7496"
          ]
        },
        {
          "output_type": "stream",
          "name": "stderr",
          "text": [
            "WARNING:absl:Found untraced functions such as _update_step_xla, lstm_cell_7_layer_call_fn, lstm_cell_7_layer_call_and_return_conditional_losses while saving (showing 3 of 3). These functions will not be directly callable after loading.\n"
          ]
        },
        {
          "output_type": "stream",
          "name": "stdout",
          "text": [
            "\b\b\b\b\b\b\b\b\b\b\b\b\b\b\b\b\b\b\b\b\b\b\b\b\b\b\b\b\b\b\b\b\b\b\b\b\b\b\b\b\b\b\b\b\b\b\b\b\b\b\b\b\b\b\b\b\b\b\b\b\b\b\b\b\b\b\b\b\b\b\b\b\b\b\b\b\b\b\b\b\b\b\b\b\b\b\b\b\b\b\b\b\b\b\b\b\b\b\b\r146/146 [==============================] - 7s 48ms/step - loss: 3.0710 - root_mean_squared_error: 1.7524 - val_loss: 3.1768 - val_root_mean_squared_error: 1.7824\n",
            "Epoch 11/30\n",
            "143/146 [============================>.] - ETA: 0s - loss: 2.8521 - root_mean_squared_error: 1.6888"
          ]
        },
        {
          "output_type": "stream",
          "name": "stderr",
          "text": [
            "WARNING:absl:Found untraced functions such as _update_step_xla, lstm_cell_7_layer_call_fn, lstm_cell_7_layer_call_and_return_conditional_losses while saving (showing 3 of 3). These functions will not be directly callable after loading.\n"
          ]
        },
        {
          "output_type": "stream",
          "name": "stdout",
          "text": [
            "\b\b\b\b\b\b\b\b\b\b\b\b\b\b\b\b\b\b\b\b\b\b\b\b\b\b\b\b\b\b\b\b\b\b\b\b\b\b\b\b\b\b\b\b\b\b\b\b\b\b\b\b\b\b\b\b\b\b\b\b\b\b\b\b\b\b\b\b\b\b\b\b\b\b\b\b\b\b\b\b\b\b\b\b\b\b\b\b\b\b\b\b\b\b\b\b\b\b\b\r146/146 [==============================] - 8s 55ms/step - loss: 2.8519 - root_mean_squared_error: 1.6888 - val_loss: 2.5785 - val_root_mean_squared_error: 1.6058\n",
            "Epoch 12/30\n",
            "142/146 [============================>.] - ETA: 0s - loss: 2.6968 - root_mean_squared_error: 1.6422"
          ]
        },
        {
          "output_type": "stream",
          "name": "stderr",
          "text": [
            "WARNING:absl:Found untraced functions such as _update_step_xla, lstm_cell_7_layer_call_fn, lstm_cell_7_layer_call_and_return_conditional_losses while saving (showing 3 of 3). These functions will not be directly callable after loading.\n"
          ]
        },
        {
          "output_type": "stream",
          "name": "stdout",
          "text": [
            "\b\b\b\b\b\b\b\b\b\b\b\b\b\b\b\b\b\b\b\b\b\b\b\b\b\b\b\b\b\b\b\b\b\b\b\b\b\b\b\b\b\b\b\b\b\b\b\b\b\b\b\b\b\b\b\b\b\b\b\b\b\b\b\b\b\b\b\b\b\b\b\b\b\b\b\b\b\b\b\b\b\b\b\b\b\b\b\b\b\b\b\b\b\b\b\b\b\b\b\r146/146 [==============================] - 8s 56ms/step - loss: 2.6809 - root_mean_squared_error: 1.6373 - val_loss: 2.2859 - val_root_mean_squared_error: 1.5119\n",
            "Epoch 13/30\n",
            "146/146 [==============================] - 1s 8ms/step - loss: 2.6435 - root_mean_squared_error: 1.6259 - val_loss: 2.3552 - val_root_mean_squared_error: 1.5347\n",
            "Epoch 14/30\n",
            "146/146 [==============================] - 1s 6ms/step - loss: 2.5495 - root_mean_squared_error: 1.5967 - val_loss: 2.5764 - val_root_mean_squared_error: 1.6051\n",
            "Epoch 15/30\n",
            "141/146 [===========================>..] - ETA: 0s - loss: 2.5381 - root_mean_squared_error: 1.5931"
          ]
        },
        {
          "output_type": "stream",
          "name": "stderr",
          "text": [
            "WARNING:absl:Found untraced functions such as _update_step_xla, lstm_cell_7_layer_call_fn, lstm_cell_7_layer_call_and_return_conditional_losses while saving (showing 3 of 3). These functions will not be directly callable after loading.\n"
          ]
        },
        {
          "output_type": "stream",
          "name": "stdout",
          "text": [
            "\b\b\b\b\b\b\b\b\b\b\b\b\b\b\b\b\b\b\b\b\b\b\b\b\b\b\b\b\b\b\b\b\b\b\b\b\b\b\b\b\b\b\b\b\b\b\b\b\b\b\b\b\b\b\b\b\b\b\b\b\b\b\b\b\b\b\b\b\b\b\b\b\b\b\b\b\b\b\b\b\b\b\b\b\b\b\b\b\b\b\b\b\b\b\b\b\b\b\b\r146/146 [==============================] - 6s 41ms/step - loss: 2.5188 - root_mean_squared_error: 1.5871 - val_loss: 2.2098 - val_root_mean_squared_error: 1.4865\n",
            "Epoch 16/30\n",
            "137/146 [===========================>..] - ETA: 0s - loss: 2.4390 - root_mean_squared_error: 1.5617"
          ]
        },
        {
          "output_type": "stream",
          "name": "stderr",
          "text": [
            "WARNING:absl:Found untraced functions such as _update_step_xla, lstm_cell_7_layer_call_fn, lstm_cell_7_layer_call_and_return_conditional_losses while saving (showing 3 of 3). These functions will not be directly callable after loading.\n"
          ]
        },
        {
          "output_type": "stream",
          "name": "stdout",
          "text": [
            "\b\b\b\b\b\b\b\b\b\b\b\b\b\b\b\b\b\b\b\b\b\b\b\b\b\b\b\b\b\b\b\b\b\b\b\b\b\b\b\b\b\b\b\b\b\b\b\b\b\b\b\b\b\b\b\b\b\b\b\b\b\b\b\b\b\b\b\b\b\b\b\b\b\b\b\b\b\b\b\b\b\b\b\b\b\b\b\b\b\b\b\b\b\b\b\b\b\b\b\r146/146 [==============================] - 7s 50ms/step - loss: 2.4341 - root_mean_squared_error: 1.5602 - val_loss: 2.1150 - val_root_mean_squared_error: 1.4543\n",
            "Epoch 17/30\n",
            "146/146 [==============================] - 1s 6ms/step - loss: 2.3534 - root_mean_squared_error: 1.5341 - val_loss: 2.2949 - val_root_mean_squared_error: 1.5149\n",
            "Epoch 18/30\n",
            "146/146 [==============================] - ETA: 0s - loss: 2.3068 - root_mean_squared_error: 1.5188"
          ]
        },
        {
          "output_type": "stream",
          "name": "stderr",
          "text": [
            "WARNING:absl:Found untraced functions such as _update_step_xla, lstm_cell_7_layer_call_fn, lstm_cell_7_layer_call_and_return_conditional_losses while saving (showing 3 of 3). These functions will not be directly callable after loading.\n"
          ]
        },
        {
          "output_type": "stream",
          "name": "stdout",
          "text": [
            "\b\b\b\b\b\b\b\b\b\b\b\b\b\b\b\b\b\b\b\b\b\b\b\b\b\b\b\b\b\b\b\b\b\b\b\b\b\b\b\b\b\b\b\b\b\b\b\b\b\b\b\b\b\b\b\b\b\b\b\b\b\b\b\b\b\b\b\b\b\b\b\b\b\b\b\b\b\b\b\b\b\b\b\b\b\b\b\b\b\b\b\b\b\b\b\b\b\b\b\r146/146 [==============================] - 6s 41ms/step - loss: 2.3068 - root_mean_squared_error: 1.5188 - val_loss: 1.9747 - val_root_mean_squared_error: 1.4053\n",
            "Epoch 19/30\n",
            "146/146 [==============================] - ETA: 0s - loss: 2.0670 - root_mean_squared_error: 1.4377"
          ]
        },
        {
          "output_type": "stream",
          "name": "stderr",
          "text": [
            "WARNING:absl:Found untraced functions such as _update_step_xla, lstm_cell_7_layer_call_fn, lstm_cell_7_layer_call_and_return_conditional_losses while saving (showing 3 of 3). These functions will not be directly callable after loading.\n"
          ]
        },
        {
          "output_type": "stream",
          "name": "stdout",
          "text": [
            "\b\b\b\b\b\b\b\b\b\b\b\b\b\b\b\b\b\b\b\b\b\b\b\b\b\b\b\b\b\b\b\b\b\b\b\b\b\b\b\b\b\b\b\b\b\b\b\b\b\b\b\b\b\b\b\b\b\b\b\b\b\b\b\b\b\b\b\b\b\b\b\b\b\b\b\b\b\b\b\b\b\b\b\b\b\b\b\b\b\b\b\b\b\b\b\b\b\b\b\r146/146 [==============================] - 7s 51ms/step - loss: 2.0670 - root_mean_squared_error: 1.4377 - val_loss: 1.9321 - val_root_mean_squared_error: 1.3900\n",
            "Epoch 20/30\n",
            "142/146 [============================>.] - ETA: 0s - loss: 2.0463 - root_mean_squared_error: 1.4305"
          ]
        },
        {
          "output_type": "stream",
          "name": "stderr",
          "text": [
            "WARNING:absl:Found untraced functions such as _update_step_xla, lstm_cell_7_layer_call_fn, lstm_cell_7_layer_call_and_return_conditional_losses while saving (showing 3 of 3). These functions will not be directly callable after loading.\n"
          ]
        },
        {
          "output_type": "stream",
          "name": "stdout",
          "text": [
            "\b\b\b\b\b\b\b\b\b\b\b\b\b\b\b\b\b\b\b\b\b\b\b\b\b\b\b\b\b\b\b\b\b\b\b\b\b\b\b\b\b\b\b\b\b\b\b\b\b\b\b\b\b\b\b\b\b\b\b\b\b\b\b\b\b\b\b\b\b\b\b\b\b\b\b\b\b\b\b\b\b\b\b\b\b\b\b\b\b\b\b\b\b\b\b\b\b\b\b\r146/146 [==============================] - 6s 42ms/step - loss: 2.0382 - root_mean_squared_error: 1.4277 - val_loss: 1.7094 - val_root_mean_squared_error: 1.3074\n",
            "Epoch 21/30\n",
            "139/146 [===========================>..] - ETA: 0s - loss: 1.8098 - root_mean_squared_error: 1.3453"
          ]
        },
        {
          "output_type": "stream",
          "name": "stderr",
          "text": [
            "WARNING:absl:Found untraced functions such as _update_step_xla, lstm_cell_7_layer_call_fn, lstm_cell_7_layer_call_and_return_conditional_losses while saving (showing 3 of 3). These functions will not be directly callable after loading.\n"
          ]
        },
        {
          "output_type": "stream",
          "name": "stdout",
          "text": [
            "\b\b\b\b\b\b\b\b\b\b\b\b\b\b\b\b\b\b\b\b\b\b\b\b\b\b\b\b\b\b\b\b\b\b\b\b\b\b\b\b\b\b\b\b\b\b\b\b\b\b\b\b\b\b\b\b\b\b\b\b\b\b\b\b\b\b\b\b\b\b\b\b\b\b\b\b\b\b\b\b\b\b\b\b\b\b\b\b\b\b\b\b\b\b\b\b\b\b\b\r146/146 [==============================] - 7s 48ms/step - loss: 1.8168 - root_mean_squared_error: 1.3479 - val_loss: 1.6464 - val_root_mean_squared_error: 1.2831\n",
            "Epoch 22/30\n",
            "146/146 [==============================] - 1s 9ms/step - loss: 1.7302 - root_mean_squared_error: 1.3154 - val_loss: 1.7971 - val_root_mean_squared_error: 1.3406\n",
            "Epoch 23/30\n",
            "141/146 [===========================>..] - ETA: 0s - loss: 1.6038 - root_mean_squared_error: 1.2664"
          ]
        },
        {
          "output_type": "stream",
          "name": "stderr",
          "text": [
            "WARNING:absl:Found untraced functions such as _update_step_xla, lstm_cell_7_layer_call_fn, lstm_cell_7_layer_call_and_return_conditional_losses while saving (showing 3 of 3). These functions will not be directly callable after loading.\n"
          ]
        },
        {
          "output_type": "stream",
          "name": "stdout",
          "text": [
            "\b\b\b\b\b\b\b\b\b\b\b\b\b\b\b\b\b\b\b\b\b\b\b\b\b\b\b\b\b\b\b\b\b\b\b\b\b\b\b\b\b\b\b\b\b\b\b\b\b\b\b\b\b\b\b\b\b\b\b\b\b\b\b\b\b\b\b\b\b\b\b\b\b\b\b\b\b\b\b\b\b\b\b\b\b\b\b\b\b\b\b\b\b\b\b\b\b\b\b\r146/146 [==============================] - 6s 41ms/step - loss: 1.6030 - root_mean_squared_error: 1.2661 - val_loss: 1.4544 - val_root_mean_squared_error: 1.2060\n",
            "Epoch 24/30\n",
            "146/146 [==============================] - 1s 6ms/step - loss: 1.4881 - root_mean_squared_error: 1.2199 - val_loss: 2.2863 - val_root_mean_squared_error: 1.5120\n",
            "Epoch 25/30\n",
            "146/146 [==============================] - 1s 6ms/step - loss: 1.5211 - root_mean_squared_error: 1.2333 - val_loss: 1.7932 - val_root_mean_squared_error: 1.3391\n",
            "Epoch 26/30\n",
            "146/146 [==============================] - 1s 6ms/step - loss: 1.5584 - root_mean_squared_error: 1.2484 - val_loss: 1.7647 - val_root_mean_squared_error: 1.3284\n",
            "Epoch 27/30\n",
            "146/146 [==============================] - 1s 6ms/step - loss: 1.4601 - root_mean_squared_error: 1.2083 - val_loss: 1.4890 - val_root_mean_squared_error: 1.2203\n",
            "Epoch 28/30\n",
            "146/146 [==============================] - 1s 6ms/step - loss: 1.4264 - root_mean_squared_error: 1.1943 - val_loss: 1.5762 - val_root_mean_squared_error: 1.2555\n",
            "Epoch 29/30\n",
            "146/146 [==============================] - 1s 9ms/step - loss: 1.3311 - root_mean_squared_error: 1.1537 - val_loss: 1.6751 - val_root_mean_squared_error: 1.2942\n",
            "Epoch 30/30\n",
            "146/146 [==============================] - 1s 9ms/step - loss: 1.2907 - root_mean_squared_error: 1.1361 - val_loss: 1.7144 - val_root_mean_squared_error: 1.3093\n"
          ]
        },
        {
          "output_type": "execute_result",
          "data": {
            "text/plain": [
              "<keras.callbacks.History at 0x7f9ea56e7850>"
            ]
          },
          "metadata": {},
          "execution_count": 173
        }
      ],
      "id": "CWeSakSwYLtr"
    },
    {
      "cell_type": "code",
      "metadata": {
        "id": "vdaqGHG4YZkN"
      },
      "source": [
        "lstm_model = load_model('lstm_model/')"
      ],
      "execution_count": null,
      "outputs": [],
      "id": "vdaqGHG4YZkN"
    },
    {
      "cell_type": "code",
      "metadata": {
        "colab": {
          "base_uri": "https://localhost:8080/",
          "height": 441
        },
        "id": "byObmr8CZRhp",
        "outputId": "8b0fdf0c-5298-4c90-a23e-46beab1506da"
      },
      "source": [
        "train_predictions = lstm_model.predict(X1_train).flatten()\n",
        "train_results = pd.DataFrame(data={'Train Predictions':train_predictions, 'Actuals':y1_train})\n",
        "train_results"
      ],
      "execution_count": null,
      "outputs": [
        {
          "output_type": "stream",
          "name": "stdout",
          "text": [
            "146/146 [==============================] - 1s 3ms/step\n"
          ]
        },
        {
          "output_type": "execute_result",
          "data": {
            "text/plain": [
              "      Train Predictions    Actuals\n",
              "0             79.640480  79.376909\n",
              "1             80.602562  83.855121\n",
              "2             79.875565  80.243575\n",
              "3             81.184196  84.388454\n",
              "4             80.363892  79.910242\n",
              "...                 ...        ...\n",
              "4647          77.089897  78.400000\n",
              "4648          77.928009  76.666667\n",
              "4649          77.006508  76.600000\n",
              "4650          75.966576  75.533333\n",
              "4651          75.804008  76.266667\n",
              "\n",
              "[4652 rows x 2 columns]"
            ],
            "text/html": [
              "\n",
              "  <div id=\"df-a0827207-8977-4d32-b7c6-2f3e1d2305d8\">\n",
              "    <div class=\"colab-df-container\">\n",
              "      <div>\n",
              "<style scoped>\n",
              "    .dataframe tbody tr th:only-of-type {\n",
              "        vertical-align: middle;\n",
              "    }\n",
              "\n",
              "    .dataframe tbody tr th {\n",
              "        vertical-align: top;\n",
              "    }\n",
              "\n",
              "    .dataframe thead th {\n",
              "        text-align: right;\n",
              "    }\n",
              "</style>\n",
              "<table border=\"1\" class=\"dataframe\">\n",
              "  <thead>\n",
              "    <tr style=\"text-align: right;\">\n",
              "      <th></th>\n",
              "      <th>Train Predictions</th>\n",
              "      <th>Actuals</th>\n",
              "    </tr>\n",
              "  </thead>\n",
              "  <tbody>\n",
              "    <tr>\n",
              "      <th>0</th>\n",
              "      <td>79.640480</td>\n",
              "      <td>79.376909</td>\n",
              "    </tr>\n",
              "    <tr>\n",
              "      <th>1</th>\n",
              "      <td>80.602562</td>\n",
              "      <td>83.855121</td>\n",
              "    </tr>\n",
              "    <tr>\n",
              "      <th>2</th>\n",
              "      <td>79.875565</td>\n",
              "      <td>80.243575</td>\n",
              "    </tr>\n",
              "    <tr>\n",
              "      <th>3</th>\n",
              "      <td>81.184196</td>\n",
              "      <td>84.388454</td>\n",
              "    </tr>\n",
              "    <tr>\n",
              "      <th>4</th>\n",
              "      <td>80.363892</td>\n",
              "      <td>79.910242</td>\n",
              "    </tr>\n",
              "    <tr>\n",
              "      <th>...</th>\n",
              "      <td>...</td>\n",
              "      <td>...</td>\n",
              "    </tr>\n",
              "    <tr>\n",
              "      <th>4647</th>\n",
              "      <td>77.089897</td>\n",
              "      <td>78.400000</td>\n",
              "    </tr>\n",
              "    <tr>\n",
              "      <th>4648</th>\n",
              "      <td>77.928009</td>\n",
              "      <td>76.666667</td>\n",
              "    </tr>\n",
              "    <tr>\n",
              "      <th>4649</th>\n",
              "      <td>77.006508</td>\n",
              "      <td>76.600000</td>\n",
              "    </tr>\n",
              "    <tr>\n",
              "      <th>4650</th>\n",
              "      <td>75.966576</td>\n",
              "      <td>75.533333</td>\n",
              "    </tr>\n",
              "    <tr>\n",
              "      <th>4651</th>\n",
              "      <td>75.804008</td>\n",
              "      <td>76.266667</td>\n",
              "    </tr>\n",
              "  </tbody>\n",
              "</table>\n",
              "<p>4652 rows × 2 columns</p>\n",
              "</div>\n",
              "      <button class=\"colab-df-convert\" onclick=\"convertToInteractive('df-a0827207-8977-4d32-b7c6-2f3e1d2305d8')\"\n",
              "              title=\"Convert this dataframe to an interactive table.\"\n",
              "              style=\"display:none;\">\n",
              "        \n",
              "  <svg xmlns=\"http://www.w3.org/2000/svg\" height=\"24px\"viewBox=\"0 0 24 24\"\n",
              "       width=\"24px\">\n",
              "    <path d=\"M0 0h24v24H0V0z\" fill=\"none\"/>\n",
              "    <path d=\"M18.56 5.44l.94 2.06.94-2.06 2.06-.94-2.06-.94-.94-2.06-.94 2.06-2.06.94zm-11 1L8.5 8.5l.94-2.06 2.06-.94-2.06-.94L8.5 2.5l-.94 2.06-2.06.94zm10 10l.94 2.06.94-2.06 2.06-.94-2.06-.94-.94-2.06-.94 2.06-2.06.94z\"/><path d=\"M17.41 7.96l-1.37-1.37c-.4-.4-.92-.59-1.43-.59-.52 0-1.04.2-1.43.59L10.3 9.45l-7.72 7.72c-.78.78-.78 2.05 0 2.83L4 21.41c.39.39.9.59 1.41.59.51 0 1.02-.2 1.41-.59l7.78-7.78 2.81-2.81c.8-.78.8-2.07 0-2.86zM5.41 20L4 18.59l7.72-7.72 1.47 1.35L5.41 20z\"/>\n",
              "  </svg>\n",
              "      </button>\n",
              "      \n",
              "  <style>\n",
              "    .colab-df-container {\n",
              "      display:flex;\n",
              "      flex-wrap:wrap;\n",
              "      gap: 12px;\n",
              "    }\n",
              "\n",
              "    .colab-df-convert {\n",
              "      background-color: #E8F0FE;\n",
              "      border: none;\n",
              "      border-radius: 50%;\n",
              "      cursor: pointer;\n",
              "      display: none;\n",
              "      fill: #1967D2;\n",
              "      height: 32px;\n",
              "      padding: 0 0 0 0;\n",
              "      width: 32px;\n",
              "    }\n",
              "\n",
              "    .colab-df-convert:hover {\n",
              "      background-color: #E2EBFA;\n",
              "      box-shadow: 0px 1px 2px rgba(60, 64, 67, 0.3), 0px 1px 3px 1px rgba(60, 64, 67, 0.15);\n",
              "      fill: #174EA6;\n",
              "    }\n",
              "\n",
              "    [theme=dark] .colab-df-convert {\n",
              "      background-color: #3B4455;\n",
              "      fill: #D2E3FC;\n",
              "    }\n",
              "\n",
              "    [theme=dark] .colab-df-convert:hover {\n",
              "      background-color: #434B5C;\n",
              "      box-shadow: 0px 1px 3px 1px rgba(0, 0, 0, 0.15);\n",
              "      filter: drop-shadow(0px 1px 2px rgba(0, 0, 0, 0.3));\n",
              "      fill: #FFFFFF;\n",
              "    }\n",
              "  </style>\n",
              "\n",
              "      <script>\n",
              "        const buttonEl =\n",
              "          document.querySelector('#df-a0827207-8977-4d32-b7c6-2f3e1d2305d8 button.colab-df-convert');\n",
              "        buttonEl.style.display =\n",
              "          google.colab.kernel.accessAllowed ? 'block' : 'none';\n",
              "\n",
              "        async function convertToInteractive(key) {\n",
              "          const element = document.querySelector('#df-a0827207-8977-4d32-b7c6-2f3e1d2305d8');\n",
              "          const dataTable =\n",
              "            await google.colab.kernel.invokeFunction('convertToInteractive',\n",
              "                                                     [key], {});\n",
              "          if (!dataTable) return;\n",
              "\n",
              "          const docLinkHtml = 'Like what you see? Visit the ' +\n",
              "            '<a target=\"_blank\" href=https://colab.research.google.com/notebooks/data_table.ipynb>data table notebook</a>'\n",
              "            + ' to learn more about interactive tables.';\n",
              "          element.innerHTML = '';\n",
              "          dataTable['output_type'] = 'display_data';\n",
              "          await google.colab.output.renderOutput(dataTable, element);\n",
              "          const docLink = document.createElement('div');\n",
              "          docLink.innerHTML = docLinkHtml;\n",
              "          element.appendChild(docLink);\n",
              "        }\n",
              "      </script>\n",
              "    </div>\n",
              "  </div>\n",
              "  "
            ]
          },
          "metadata": {},
          "execution_count": 175
        }
      ],
      "id": "byObmr8CZRhp"
    },
    {
      "cell_type": "code",
      "metadata": {
        "colab": {
          "base_uri": "https://localhost:8080/",
          "height": 447
        },
        "id": "KTqY8r6_Zpev",
        "outputId": "3ec8247f-f33d-4841-9316-799cadce61cf"
      },
      "source": [
        "import matplotlib.pyplot as plt\n",
        "plt.plot(train_results['Train Predictions'][2600:2700])\n",
        "plt.plot(train_results['Actuals'][2600:2700])\n",
        "plt.legend(['Train Predictions', 'Actuals'])\n",
        "print('MSE for Univariate LSTM model (train):', mse(train_results['Actuals'],train_results['Train Predictions']))\n",
        "plt.show()"
      ],
      "execution_count": null,
      "outputs": [
        {
          "output_type": "stream",
          "name": "stdout",
          "text": [
            "MSE for Univariate LSTM model (train): 1.6243639770426974\n"
          ]
        },
        {
          "output_type": "display_data",
          "data": {
            "text/plain": [
              "<Figure size 640x480 with 1 Axes>"
            ],
            "image/png": "[encoded data removed]"
          },
          "metadata": {}
        }
      ],
      "id": "KTqY8r6_Zpev"
    },
    {
      "cell_type": "code",
      "metadata": {
        "colab": {
          "base_uri": "https://localhost:8080/",
          "height": 441
        },
        "id": "vuY5nmGYZ8ix",
        "outputId": "1240891a-46c8-48a4-bade-e181f06bb418"
      },
      "source": [
        "val_predictions = lstm_model.predict(X1_val).flatten()\n",
        "val_results = pd.DataFrame(data={'Val Predictions':val_predictions, 'Actuals':y1_val})\n",
        "val_results"
      ],
      "execution_count": null,
      "outputs": [
        {
          "output_type": "stream",
          "name": "stdout",
          "text": [
            "19/19 [==============================] - 0s 2ms/step\n"
          ]
        },
        {
          "output_type": "execute_result",
          "data": {
            "text/plain": [
              "     Val Predictions    Actuals\n",
              "0          75.317024  76.266667\n",
              "1          76.152534  76.733333\n",
              "2          76.065674  75.933333\n",
              "3          76.053375  75.533333\n",
              "4          75.166847  75.466667\n",
              "..               ...        ...\n",
              "576        77.662834  80.666667\n",
              "577        79.463005  78.000000\n",
              "578        78.606697  74.466667\n",
              "579        75.392006  73.200000\n",
              "580        72.980400  72.866667\n",
              "\n",
              "[581 rows x 2 columns]"
            ],
            "text/html": [
              "\n",
              "  <div id=\"df-ca817fe6-7da2-494e-bfab-68395faaa455\">\n",
              "    <div class=\"colab-df-container\">\n",
              "      <div>\n",
              "<style scoped>\n",
              "    .dataframe tbody tr th:only-of-type {\n",
              "        vertical-align: middle;\n",
              "    }\n",
              "\n",
              "    .dataframe tbody tr th {\n",
              "        vertical-align: top;\n",
              "    }\n",
              "\n",
              "    .dataframe thead th {\n",
              "        text-align: right;\n",
              "    }\n",
              "</style>\n",
              "<table border=\"1\" class=\"dataframe\">\n",
              "  <thead>\n",
              "    <tr style=\"text-align: right;\">\n",
              "      <th></th>\n",
              "      <th>Val Predictions</th>\n",
              "      <th>Actuals</th>\n",
              "    </tr>\n",
              "  </thead>\n",
              "  <tbody>\n",
              "    <tr>\n",
              "      <th>0</th>\n",
              "      <td>75.317024</td>\n",
              "      <td>76.266667</td>\n",
              "    </tr>\n",
              "    <tr>\n",
              "      <th>1</th>\n",
              "      <td>76.152534</td>\n",
              "      <td>76.733333</td>\n",
              "    </tr>\n",
              "    <tr>\n",
              "      <th>2</th>\n",
              "      <td>76.065674</td>\n",
              "      <td>75.933333</td>\n",
              "    </tr>\n",
              "    <tr>\n",
              "      <th>3</th>\n",
              "      <td>76.053375</td>\n",
              "      <td>75.533333</td>\n",
              "    </tr>\n",
              "    <tr>\n",
              "      <th>4</th>\n",
              "      <td>75.166847</td>\n",
              "      <td>75.466667</td>\n",
              "    </tr>\n",
              "    <tr>\n",
              "      <th>...</th>\n",
              "      <td>...</td>\n",
              "      <td>...</td>\n",
              "    </tr>\n",
              "    <tr>\n",
              "      <th>576</th>\n",
              "      <td>77.662834</td>\n",
              "      <td>80.666667</td>\n",
              "    </tr>\n",
              "    <tr>\n",
              "      <th>577</th>\n",
              "      <td>79.463005</td>\n",
              "      <td>78.000000</td>\n",
              "    </tr>\n",
              "    <tr>\n",
              "      <th>578</th>\n",
              "      <td>78.606697</td>\n",
              "      <td>74.466667</td>\n",
              "    </tr>\n",
              "    <tr>\n",
              "      <th>579</th>\n",
              "      <td>75.392006</td>\n",
              "      <td>73.200000</td>\n",
              "    </tr>\n",
              "    <tr>\n",
              "      <th>580</th>\n",
              "      <td>72.980400</td>\n",
              "      <td>72.866667</td>\n",
              "    </tr>\n",
              "  </tbody>\n",
              "</table>\n",
              "<p>581 rows × 2 columns</p>\n",
              "</div>\n",
              "      <button class=\"colab-df-convert\" onclick=\"convertToInteractive('df-ca817fe6-7da2-494e-bfab-68395faaa455')\"\n",
              "              title=\"Convert this dataframe to an interactive table.\"\n",
              "              style=\"display:none;\">\n",
              "        \n",
              "  <svg xmlns=\"http://www.w3.org/2000/svg\" height=\"24px\"viewBox=\"0 0 24 24\"\n",
              "       width=\"24px\">\n",
              "    <path d=\"M0 0h24v24H0V0z\" fill=\"none\"/>\n",
              "    <path d=\"M18.56 5.44l.94 2.06.94-2.06 2.06-.94-2.06-.94-.94-2.06-.94 2.06-2.06.94zm-11 1L8.5 8.5l.94-2.06 2.06-.94-2.06-.94L8.5 2.5l-.94 2.06-2.06.94zm10 10l.94 2.06.94-2.06 2.06-.94-2.06-.94-.94-2.06-.94 2.06-2.06.94z\"/><path d=\"M17.41 7.96l-1.37-1.37c-.4-.4-.92-.59-1.43-.59-.52 0-1.04.2-1.43.59L10.3 9.45l-7.72 7.72c-.78.78-.78 2.05 0 2.83L4 21.41c.39.39.9.59 1.41.59.51 0 1.02-.2 1.41-.59l7.78-7.78 2.81-2.81c.8-.78.8-2.07 0-2.86zM5.41 20L4 18.59l7.72-7.72 1.47 1.35L5.41 20z\"/>\n",
              "  </svg>\n",
              "      </button>\n",
              "      \n",
              "  <style>\n",
              "    .colab-df-container {\n",
              "      display:flex;\n",
              "      flex-wrap:wrap;\n",
              "      gap: 12px;\n",
              "    }\n",
              "\n",
              "    .colab-df-convert {\n",
              "      background-color: #E8F0FE;\n",
              "      border: none;\n",
              "      border-radius: 50%;\n",
              "      cursor: pointer;\n",
              "      display: none;\n",
              "      fill: #1967D2;\n",
              "      height: 32px;\n",
              "      padding: 0 0 0 0;\n",
              "      width: 32px;\n",
              "    }\n",
              "\n",
              "    .colab-df-convert:hover {\n",
              "      background-color: #E2EBFA;\n",
              "      box-shadow: 0px 1px 2px rgba(60, 64, 67, 0.3), 0px 1px 3px 1px rgba(60, 64, 67, 0.15);\n",
              "      fill: #174EA6;\n",
              "    }\n",
              "\n",
              "    [theme=dark] .colab-df-convert {\n",
              "      background-color: #3B4455;\n",
              "      fill: #D2E3FC;\n",
              "    }\n",
              "\n",
              "    [theme=dark] .colab-df-convert:hover {\n",
              "      background-color: #434B5C;\n",
              "      box-shadow: 0px 1px 3px 1px rgba(0, 0, 0, 0.15);\n",
              "      filter: drop-shadow(0px 1px 2px rgba(0, 0, 0, 0.3));\n",
              "      fill: #FFFFFF;\n",
              "    }\n",
              "  </style>\n",
              "\n",
              "      <script>\n",
              "        const buttonEl =\n",
              "          document.querySelector('#df-ca817fe6-7da2-494e-bfab-68395faaa455 button.colab-df-convert');\n",
              "        buttonEl.style.display =\n",
              "          google.colab.kernel.accessAllowed ? 'block' : 'none';\n",
              "\n",
              "        async function convertToInteractive(key) {\n",
              "          const element = document.querySelector('#df-ca817fe6-7da2-494e-bfab-68395faaa455');\n",
              "          const dataTable =\n",
              "            await google.colab.kernel.invokeFunction('convertToInteractive',\n",
              "                                                     [key], {});\n",
              "          if (!dataTable) return;\n",
              "\n",
              "          const docLinkHtml = 'Like what you see? Visit the ' +\n",
              "            '<a target=\"_blank\" href=https://colab.research.google.com/notebooks/data_table.ipynb>data table notebook</a>'\n",
              "            + ' to learn more about interactive tables.';\n",
              "          element.innerHTML = '';\n",
              "          dataTable['output_type'] = 'display_data';\n",
              "          await google.colab.output.renderOutput(dataTable, element);\n",
              "          const docLink = document.createElement('div');\n",
              "          docLink.innerHTML = docLinkHtml;\n",
              "          element.appendChild(docLink);\n",
              "        }\n",
              "      </script>\n",
              "    </div>\n",
              "  </div>\n",
              "  "
            ]
          },
          "metadata": {},
          "execution_count": 177
        }
      ],
      "id": "vuY5nmGYZ8ix"
    },
    {
      "cell_type": "code",
      "metadata": {
        "colab": {
          "base_uri": "https://localhost:8080/",
          "height": 447
        },
        "id": "6MlctzuuaQww",
        "outputId": "7513dae0-ea52-438f-e4e5-885b59b1fcfe"
      },
      "source": [
        "plt.plot(val_results['Val Predictions'][:100])\n",
        "plt.plot(val_results['Actuals'][:100])\n",
        "plt.legend(['Val Predictions', 'Actuals'])\n",
        "print('MSE for Univariate LSTM model (validation):', mse(val_results['Actuals'],val_results['Val Predictions']))\n",
        "plt.show()"
      ],
      "execution_count": null,
      "outputs": [
        {
          "output_type": "stream",
          "name": "stdout",
          "text": [
            "MSE for Univariate LSTM model (validation): 1.4543903693813445\n"
          ]
        },
        {
          "output_type": "display_data",
          "data": {
            "text/plain": [
              "<Figure size 640x480 with 1 Axes>"
            ],
            "image/png": "[encoded data removed]"
          },
          "metadata": {}
        }
      ],
      "id": "6MlctzuuaQww"
    },
    {
      "cell_type": "code",
      "metadata": {
        "colab": {
          "base_uri": "https://localhost:8080/",
          "height": 441
        },
        "id": "5O59Q8MTaRN7",
        "outputId": "55a38a35-9f0b-4104-a9fc-047fd9bce787"
      },
      "source": [
        "test_predictions = lstm_model.predict(X1_test).flatten()\n",
        "test_results = pd.DataFrame(data={'Test Predictions':test_predictions, 'Actuals':y1_test})\n",
        "test_results"
      ],
      "execution_count": null,
      "outputs": [
        {
          "output_type": "stream",
          "name": "stdout",
          "text": [
            "19/19 [==============================] - 0s 2ms/step\n"
          ]
        },
        {
          "output_type": "execute_result",
          "data": {
            "text/plain": [
              "     Test Predictions    Actuals\n",
              "0           72.610695  76.400000\n",
              "1           74.463203  75.733333\n",
              "2           76.750145  75.733333\n",
              "3           74.983658  73.800000\n",
              "4           74.491478  74.333333\n",
              "..                ...        ...\n",
              "577         74.551842  75.400000\n",
              "578         75.585869  76.800000\n",
              "579         75.641220  75.066667\n",
              "580         75.887413  74.533333\n",
              "581         73.943535  76.000000\n",
              "\n",
              "[582 rows x 2 columns]"
            ],
            "text/html": [
              "\n",
              "  <div id=\"df-f9983a98-0744-4cae-8dad-8329e844d3a9\">\n",
              "    <div class=\"colab-df-container\">\n",
              "      <div>\n",
              "<style scoped>\n",
              "    .dataframe tbody tr th:only-of-type {\n",
              "        vertical-align: middle;\n",
              "    }\n",
              "\n",
              "    .dataframe tbody tr th {\n",
              "        vertical-align: top;\n",
              "    }\n",
              "\n",
              "    .dataframe thead th {\n",
              "        text-align: right;\n",
              "    }\n",
              "</style>\n",
              "<table border=\"1\" class=\"dataframe\">\n",
              "  <thead>\n",
              "    <tr style=\"text-align: right;\">\n",
              "      <th></th>\n",
              "      <th>Test Predictions</th>\n",
              "      <th>Actuals</th>\n",
              "    </tr>\n",
              "  </thead>\n",
              "  <tbody>\n",
              "    <tr>\n",
              "      <th>0</th>\n",
              "      <td>72.610695</td>\n",
              "      <td>76.400000</td>\n",
              "    </tr>\n",
              "    <tr>\n",
              "      <th>1</th>\n",
              "      <td>74.463203</td>\n",
              "      <td>75.733333</td>\n",
              "    </tr>\n",
              "    <tr>\n",
              "      <th>2</th>\n",
              "      <td>76.750145</td>\n",
              "      <td>75.733333</td>\n",
              "    </tr>\n",
              "    <tr>\n",
              "      <th>3</th>\n",
              "      <td>74.983658</td>\n",
              "      <td>73.800000</td>\n",
              "    </tr>\n",
              "    <tr>\n",
              "      <th>4</th>\n",
              "      <td>74.491478</td>\n",
              "      <td>74.333333</td>\n",
              "    </tr>\n",
              "    <tr>\n",
              "      <th>...</th>\n",
              "      <td>...</td>\n",
              "      <td>...</td>\n",
              "    </tr>\n",
              "    <tr>\n",
              "      <th>577</th>\n",
              "      <td>74.551842</td>\n",
              "      <td>75.400000</td>\n",
              "    </tr>\n",
              "    <tr>\n",
              "      <th>578</th>\n",
              "      <td>75.585869</td>\n",
              "      <td>76.800000</td>\n",
              "    </tr>\n",
              "    <tr>\n",
              "      <th>579</th>\n",
              "      <td>75.641220</td>\n",
              "      <td>75.066667</td>\n",
              "    </tr>\n",
              "    <tr>\n",
              "      <th>580</th>\n",
              "      <td>75.887413</td>\n",
              "      <td>74.533333</td>\n",
              "    </tr>\n",
              "    <tr>\n",
              "      <th>581</th>\n",
              "      <td>73.943535</td>\n",
              "      <td>76.000000</td>\n",
              "    </tr>\n",
              "  </tbody>\n",
              "</table>\n",
              "<p>582 rows × 2 columns</p>\n",
              "</div>\n",
              "      <button class=\"colab-df-convert\" onclick=\"convertToInteractive('df-f9983a98-0744-4cae-8dad-8329e844d3a9')\"\n",
              "              title=\"Convert this dataframe to an interactive table.\"\n",
              "              style=\"display:none;\">\n",
              "        \n",
              "  <svg xmlns=\"http://www.w3.org/2000/svg\" height=\"24px\"viewBox=\"0 0 24 24\"\n",
              "       width=\"24px\">\n",
              "    <path d=\"M0 0h24v24H0V0z\" fill=\"none\"/>\n",
              "    <path d=\"M18.56 5.44l.94 2.06.94-2.06 2.06-.94-2.06-.94-.94-2.06-.94 2.06-2.06.94zm-11 1L8.5 8.5l.94-2.06 2.06-.94-2.06-.94L8.5 2.5l-.94 2.06-2.06.94zm10 10l.94 2.06.94-2.06 2.06-.94-2.06-.94-.94-2.06-.94 2.06-2.06.94z\"/><path d=\"M17.41 7.96l-1.37-1.37c-.4-.4-.92-.59-1.43-.59-.52 0-1.04.2-1.43.59L10.3 9.45l-7.72 7.72c-.78.78-.78 2.05 0 2.83L4 21.41c.39.39.9.59 1.41.59.51 0 1.02-.2 1.41-.59l7.78-7.78 2.81-2.81c.8-.78.8-2.07 0-2.86zM5.41 20L4 18.59l7.72-7.72 1.47 1.35L5.41 20z\"/>\n",
              "  </svg>\n",
              "      </button>\n",
              "      \n",
              "  <style>\n",
              "    .colab-df-container {\n",
              "      display:flex;\n",
              "      flex-wrap:wrap;\n",
              "      gap: 12px;\n",
              "    }\n",
              "\n",
              "    .colab-df-convert {\n",
              "      background-color: #E8F0FE;\n",
              "      border: none;\n",
              "      border-radius: 50%;\n",
              "      cursor: pointer;\n",
              "      display: none;\n",
              "      fill: #1967D2;\n",
              "      height: 32px;\n",
              "      padding: 0 0 0 0;\n",
              "      width: 32px;\n",
              "    }\n",
              "\n",
              "    .colab-df-convert:hover {\n",
              "      background-color: #E2EBFA;\n",
              "      box-shadow: 0px 1px 2px rgba(60, 64, 67, 0.3), 0px 1px 3px 1px rgba(60, 64, 67, 0.15);\n",
              "      fill: #174EA6;\n",
              "    }\n",
              "\n",
              "    [theme=dark] .colab-df-convert {\n",
              "      background-color: #3B4455;\n",
              "      fill: #D2E3FC;\n",
              "    }\n",
              "\n",
              "    [theme=dark] .colab-df-convert:hover {\n",
              "      background-color: #434B5C;\n",
              "      box-shadow: 0px 1px 3px 1px rgba(0, 0, 0, 0.15);\n",
              "      filter: drop-shadow(0px 1px 2px rgba(0, 0, 0, 0.3));\n",
              "      fill: #FFFFFF;\n",
              "    }\n",
              "  </style>\n",
              "\n",
              "      <script>\n",
              "        const buttonEl =\n",
              "          document.querySelector('#df-f9983a98-0744-4cae-8dad-8329e844d3a9 button.colab-df-convert');\n",
              "        buttonEl.style.display =\n",
              "          google.colab.kernel.accessAllowed ? 'block' : 'none';\n",
              "\n",
              "        async function convertToInteractive(key) {\n",
              "          const element = document.querySelector('#df-f9983a98-0744-4cae-8dad-8329e844d3a9');\n",
              "          const dataTable =\n",
              "            await google.colab.kernel.invokeFunction('convertToInteractive',\n",
              "                                                     [key], {});\n",
              "          if (!dataTable) return;\n",
              "\n",
              "          const docLinkHtml = 'Like what you see? Visit the ' +\n",
              "            '<a target=\"_blank\" href=https://colab.research.google.com/notebooks/data_table.ipynb>data table notebook</a>'\n",
              "            + ' to learn more about interactive tables.';\n",
              "          element.innerHTML = '';\n",
              "          dataTable['output_type'] = 'display_data';\n",
              "          await google.colab.output.renderOutput(dataTable, element);\n",
              "          const docLink = document.createElement('div');\n",
              "          docLink.innerHTML = docLinkHtml;\n",
              "          element.appendChild(docLink);\n",
              "        }\n",
              "      </script>\n",
              "    </div>\n",
              "  </div>\n",
              "  "
            ]
          },
          "metadata": {},
          "execution_count": 179
        }
      ],
      "id": "5O59Q8MTaRN7"
    },
    {
      "cell_type": "code",
      "metadata": {
        "id": "m8UzGIfEaW-P",
        "colab": {
          "base_uri": "https://localhost:8080/",
          "height": 447
        },
        "outputId": "1ad49612-61ac-4ee5-cccf-8ed335a7a7f9"
      },
      "source": [
        "plt.plot(test_results['Test Predictions'][200:300])\n",
        "plt.plot(test_results['Actuals'][200:300])\n",
        "plt.legend(['Test Predictions', 'Actuals'])\n",
        "print('MSE for Univariate LSTM model (test):', mse(test_results['Actuals'],test_results['Test Predictions']))\n",
        "plt.show()"
      ],
      "execution_count": null,
      "outputs": [
        {
          "output_type": "stream",
          "name": "stdout",
          "text": [
            "MSE for Univariate LSTM model (test): 3.2501824251830467\n"
          ]
        },
        {
          "output_type": "display_data",
          "data": {
            "text/plain": [
              "<Figure size 640x480 with 1 Axes>"
            ],
            "image/png": "[encoded data removed]"
          },
          "metadata": {}
        }
      ],
      "id": "m8UzGIfEaW-P"
    },
    {
      "cell_type": "markdown",
      "source": [
        "##Univariate CNN (Convolutional Neural Network)"
      ],
      "metadata": {
        "id": "8FfR9CNPGNbU"
      },
      "id": "8FfR9CNPGNbU"
    },
    {
      "cell_type": "code",
      "source": [
        "def get_cnn_model():\n",
        "  model = Sequential()\n",
        "  model.add(InputLayer((5, 1)))\n",
        "  model.add(Conv1D(64, kernel_size=2))\n",
        "  model.add(Flatten())\n",
        "  model.add(Dense(8, 'relu'))\n",
        "  model.add(Dense(1, 'linear'))\n",
        "  model.compile(loss=MeanSquaredError(), optimizer=Adam(learning_rate=0.0001), metrics=[RootMeanSquaredError()])\n",
        "  return model"
      ],
      "metadata": {
        "id": "BpTxlNs_GVqr"
      },
      "id": "BpTxlNs_GVqr",
      "execution_count": null,
      "outputs": []
    },
    {
      "cell_type": "code",
      "metadata": {
        "id": "YoGw3DQeeTES",
        "colab": {
          "base_uri": "https://localhost:8080/"
        },
        "outputId": "fb2c6043-72ad-4d87-f291-6d30242daee8"
      },
      "source": [
        "cnn_model = get_cnn_model()\n",
        "cnn_model.summary()"
      ],
      "execution_count": null,
      "outputs": [
        {
          "output_type": "stream",
          "name": "stdout",
          "text": [
            "Model: \"sequential_9\"\n",
            "_________________________________________________________________\n",
            " Layer (type)                Output Shape              Param #   \n",
            "=================================================================\n",
            " conv1d_3 (Conv1D)           (None, 4, 64)             192       \n",
            "                                                                 \n",
            " flatten_3 (Flatten)         (None, 256)               0         \n",
            "                                                                 \n",
            " dense_16 (Dense)            (None, 8)                 2056      \n",
            "                                                                 \n",
            " dense_17 (Dense)            (None, 1)                 9         \n",
            "                                                                 \n",
            "=================================================================\n",
            "Total params: 2,257\n",
            "Trainable params: 2,257\n",
            "Non-trainable params: 0\n",
            "_________________________________________________________________\n"
          ]
        }
      ],
      "id": "YoGw3DQeeTES"
    },
    {
      "cell_type": "code",
      "metadata": {
        "colab": {
          "base_uri": "https://localhost:8080/"
        },
        "id": "fUe56iajetZe",
        "outputId": "b11676e3-287b-4b2d-b850-97bf0f1942ef"
      },
      "source": [
        "cnn_checkpoint = ModelCheckpoint('cnn_model/', save_best_only=True)\n",
        "cnn_model.fit(X1_train, y1_train, validation_data=(X1_val, y1_val), epochs=20, batch_size=32, callbacks=[cnn_checkpoint])"
      ],
      "execution_count": null,
      "outputs": [
        {
          "output_type": "stream",
          "name": "stdout",
          "text": [
            "Epoch 1/20\n",
            "128/146 [=========================>....] - ETA: 0s - loss: 1148.4678 - root_mean_squared_error: 33.8890"
          ]
        },
        {
          "output_type": "stream",
          "name": "stderr",
          "text": [
            "WARNING:absl:Found untraced functions such as _jit_compiled_convolution_op, _update_step_xla while saving (showing 2 of 2). These functions will not be directly callable after loading.\n"
          ]
        },
        {
          "output_type": "stream",
          "name": "stdout",
          "text": [
            "\b\b\b\b\b\b\b\b\b\b\b\b\b\b\b\b\b\b\b\b\b\b\b\b\b\b\b\b\b\b\b\b\b\b\b\b\b\b\b\b\b\b\b\b\b\b\b\b\b\b\b\b\b\b\b\b\b\b\b\b\b\b\b\b\b\b\b\b\b\b\b\b\b\b\b\b\b\b\b\b\b\b\b\b\b\b\b\b\b\b\b\b\b\b\b\b\b\b\b\b\b\b\b\r146/146 [==============================] - 2s 10ms/step - loss: 1014.2787 - root_mean_squared_error: 31.8477 - val_loss: 14.4334 - val_root_mean_squared_error: 3.7991\n",
            "Epoch 2/20\n",
            "126/146 [========================>.....] - ETA: 0s - loss: 4.3756 - root_mean_squared_error: 2.0918"
          ]
        },
        {
          "output_type": "stream",
          "name": "stderr",
          "text": [
            "WARNING:absl:Found untraced functions such as _jit_compiled_convolution_op, _update_step_xla while saving (showing 2 of 2). These functions will not be directly callable after loading.\n"
          ]
        },
        {
          "output_type": "stream",
          "name": "stdout",
          "text": [
            "\b\b\b\b\b\b\b\b\b\b\b\b\b\b\b\b\b\b\b\b\b\b\b\b\b\b\b\b\b\b\b\b\b\b\b\b\b\b\b\b\b\b\b\b\b\b\b\b\b\b\b\b\b\b\b\b\b\b\b\b\b\b\b\b\b\b\b\b\b\b\b\b\b\b\b\b\b\b\b\b\b\b\b\b\b\b\b\b\b\b\b\b\b\b\b\b\b\b\b\r146/146 [==============================] - 1s 9ms/step - loss: 4.1544 - root_mean_squared_error: 2.0382 - val_loss: 3.3176 - val_root_mean_squared_error: 1.8214\n",
            "Epoch 3/20\n",
            "146/146 [==============================] - ETA: 0s - loss: 2.9790 - root_mean_squared_error: 1.7260"
          ]
        },
        {
          "output_type": "stream",
          "name": "stderr",
          "text": [
            "WARNING:absl:Found untraced functions such as _jit_compiled_convolution_op, _update_step_xla while saving (showing 2 of 2). These functions will not be directly callable after loading.\n"
          ]
        },
        {
          "output_type": "stream",
          "name": "stdout",
          "text": [
            "\b\b\b\b\b\b\b\b\b\b\b\b\b\b\b\b\b\b\b\b\b\b\b\b\b\b\b\b\b\b\b\b\b\b\b\b\b\b\b\b\b\b\b\b\b\b\b\b\b\b\b\b\b\b\b\b\b\b\b\b\b\b\b\b\b\b\b\b\b\b\b\b\b\b\b\b\b\b\b\b\b\b\b\b\b\b\b\b\b\b\b\b\b\b\b\b\b\b\b\r146/146 [==============================] - 2s 12ms/step - loss: 2.9790 - root_mean_squared_error: 1.7260 - val_loss: 3.3165 - val_root_mean_squared_error: 1.8211\n",
            "Epoch 4/20\n",
            "145/146 [============================>.] - ETA: 0s - loss: 2.9731 - root_mean_squared_error: 1.7243"
          ]
        },
        {
          "output_type": "stream",
          "name": "stderr",
          "text": [
            "WARNING:absl:Found untraced functions such as _jit_compiled_convolution_op, _update_step_xla while saving (showing 2 of 2). These functions will not be directly callable after loading.\n"
          ]
        },
        {
          "output_type": "stream",
          "name": "stdout",
          "text": [
            "\b\b\b\b\b\b\b\b\b\b\b\b\b\b\b\b\b\b\b\b\b\b\b\b\b\b\b\b\b\b\b\b\b\b\b\b\b\b\b\b\b\b\b\b\b\b\b\b\b\b\b\b\b\b\b\b\b\b\b\b\b\b\b\b\b\b\b\b\b\b\b\b\b\b\b\b\b\b\b\b\b\b\b\b\b\b\b\b\b\b\b\b\b\b\b\b\b\b\b\r146/146 [==============================] - 2s 12ms/step - loss: 2.9704 - root_mean_squared_error: 1.7235 - val_loss: 3.3156 - val_root_mean_squared_error: 1.8209\n",
            "Epoch 5/20\n",
            "143/146 [============================>.] - ETA: 0s - loss: 2.9648 - root_mean_squared_error: 1.7219"
          ]
        },
        {
          "output_type": "stream",
          "name": "stderr",
          "text": [
            "WARNING:absl:Found untraced functions such as _jit_compiled_convolution_op, _update_step_xla while saving (showing 2 of 2). These functions will not be directly callable after loading.\n"
          ]
        },
        {
          "output_type": "stream",
          "name": "stdout",
          "text": [
            "\b\b\b\b\b\b\b\b\b\b\b\b\b\b\b\b\b\b\b\b\b\b\b\b\b\b\b\b\b\b\b\b\b\b\b\b\b\b\b\b\b\b\b\b\b\b\b\b\b\b\b\b\b\b\b\b\b\b\b\b\b\b\b\b\b\b\b\b\b\b\b\b\b\b\b\b\b\b\b\b\b\b\b\b\b\b\b\b\b\b\b\b\b\b\b\b\b\b\b\r146/146 [==============================] - 1s 10ms/step - loss: 2.9607 - root_mean_squared_error: 1.7207 - val_loss: 3.3112 - val_root_mean_squared_error: 1.8197\n",
            "Epoch 6/20\n",
            "146/146 [==============================] - 0s 2ms/step - loss: 2.9464 - root_mean_squared_error: 1.7165 - val_loss: 3.3235 - val_root_mean_squared_error: 1.8230\n",
            "Epoch 7/20\n",
            "145/146 [============================>.] - ETA: 0s - loss: 2.9431 - root_mean_squared_error: 1.7155"
          ]
        },
        {
          "output_type": "stream",
          "name": "stderr",
          "text": [
            "WARNING:absl:Found untraced functions such as _jit_compiled_convolution_op, _update_step_xla while saving (showing 2 of 2). These functions will not be directly callable after loading.\n"
          ]
        },
        {
          "output_type": "stream",
          "name": "stdout",
          "text": [
            "\b\b\b\b\b\b\b\b\b\b\b\b\b\b\b\b\b\b\b\b\b\b\b\b\b\b\b\b\b\b\b\b\b\b\b\b\b\b\b\b\b\b\b\b\b\b\b\b\b\b\b\b\b\b\b\b\b\b\b\b\b\b\b\b\b\b\b\b\b\b\b\b\b\b\b\b\b\b\b\b\b\b\b\b\b\b\b\b\b\b\b\b\b\b\b\b\b\b\b\r146/146 [==============================] - 1s 9ms/step - loss: 2.9402 - root_mean_squared_error: 1.7147 - val_loss: 3.3067 - val_root_mean_squared_error: 1.8184\n",
            "Epoch 8/20\n",
            "126/146 [========================>.....] - ETA: 0s - loss: 2.9179 - root_mean_squared_error: 1.7082"
          ]
        },
        {
          "output_type": "stream",
          "name": "stderr",
          "text": [
            "WARNING:absl:Found untraced functions such as _jit_compiled_convolution_op, _update_step_xla while saving (showing 2 of 2). These functions will not be directly callable after loading.\n"
          ]
        },
        {
          "output_type": "stream",
          "name": "stdout",
          "text": [
            "\b\b\b\b\b\b\b\b\b\b\b\b\b\b\b\b\b\b\b\b\b\b\b\b\b\b\b\b\b\b\b\b\b\b\b\b\b\b\b\b\b\b\b\b\b\b\b\b\b\b\b\b\b\b\b\b\b\b\b\b\b\b\b\b\b\b\b\b\b\b\b\b\b\b\b\b\b\b\b\b\b\b\b\b\b\b\b\b\b\b\b\b\b\b\b\b\b\b\b\r146/146 [==============================] - 1s 9ms/step - loss: 2.9216 - root_mean_squared_error: 1.7093 - val_loss: 3.3043 - val_root_mean_squared_error: 1.8178\n",
            "Epoch 9/20\n",
            "146/146 [==============================] - 0s 2ms/step - loss: 2.9050 - root_mean_squared_error: 1.7044 - val_loss: 3.3051 - val_root_mean_squared_error: 1.8180\n",
            "Epoch 10/20\n",
            "144/146 [============================>.] - ETA: 0s - loss: 2.8886 - root_mean_squared_error: 1.6996"
          ]
        },
        {
          "output_type": "stream",
          "name": "stderr",
          "text": [
            "WARNING:absl:Found untraced functions such as _jit_compiled_convolution_op, _update_step_xla while saving (showing 2 of 2). These functions will not be directly callable after loading.\n"
          ]
        },
        {
          "output_type": "stream",
          "name": "stdout",
          "text": [
            "\b\b\b\b\b\b\b\b\b\b\b\b\b\b\b\b\b\b\b\b\b\b\b\b\b\b\b\b\b\b\b\b\b\b\b\b\b\b\b\b\b\b\b\b\b\b\b\b\b\b\b\b\b\b\b\b\b\b\b\b\b\b\b\b\b\b\b\b\b\b\b\b\b\b\b\b\b\b\b\b\b\b\b\b\b\b\b\b\b\b\b\b\b\b\b\b\b\b\b\r146/146 [==============================] - 2s 15ms/step - loss: 2.8861 - root_mean_squared_error: 1.6988 - val_loss: 3.2980 - val_root_mean_squared_error: 1.8160\n",
            "Epoch 11/20\n",
            "139/146 [===========================>..] - ETA: 0s - loss: 2.8919 - root_mean_squared_error: 1.7006"
          ]
        },
        {
          "output_type": "stream",
          "name": "stderr",
          "text": [
            "WARNING:absl:Found untraced functions such as _jit_compiled_convolution_op, _update_step_xla while saving (showing 2 of 2). These functions will not be directly callable after loading.\n"
          ]
        },
        {
          "output_type": "stream",
          "name": "stdout",
          "text": [
            "\b\b\b\b\b\b\b\b\b\b\b\b\b\b\b\b\b\b\b\b\b\b\b\b\b\b\b\b\b\b\b\b\b\b\b\b\b\b\b\b\b\b\b\b\b\b\b\b\b\b\b\b\b\b\b\b\b\b\b\b\b\b\b\b\b\b\b\b\b\b\b\b\b\b\b\b\b\b\b\b\b\b\b\b\b\b\b\b\b\b\b\b\b\b\b\b\b\b\b\r146/146 [==============================] - 1s 9ms/step - loss: 2.8680 - root_mean_squared_error: 1.6935 - val_loss: 3.2939 - val_root_mean_squared_error: 1.8149\n",
            "Epoch 12/20\n",
            "146/146 [==============================] - 0s 2ms/step - loss: 2.8443 - root_mean_squared_error: 1.6865 - val_loss: 3.3005 - val_root_mean_squared_error: 1.8167\n",
            "Epoch 13/20\n",
            "140/146 [===========================>..] - ETA: 0s - loss: 2.8450 - root_mean_squared_error: 1.6867"
          ]
        },
        {
          "output_type": "stream",
          "name": "stderr",
          "text": [
            "WARNING:absl:Found untraced functions such as _jit_compiled_convolution_op, _update_step_xla while saving (showing 2 of 2). These functions will not be directly callable after loading.\n"
          ]
        },
        {
          "output_type": "stream",
          "name": "stdout",
          "text": [
            "\b\b\b\b\b\b\b\b\b\b\b\b\b\b\b\b\b\b\b\b\b\b\b\b\b\b\b\b\b\b\b\b\b\b\b\b\b\b\b\b\b\b\b\b\b\b\b\b\b\b\b\b\b\b\b\b\b\b\b\b\b\b\b\b\b\b\b\b\b\b\b\b\b\b\b\b\b\b\b\b\b\b\b\b\b\b\b\b\b\b\b\b\b\b\b\b\b\b\b\r146/146 [==============================] - 1s 9ms/step - loss: 2.8219 - root_mean_squared_error: 1.6799 - val_loss: 3.2888 - val_root_mean_squared_error: 1.8135\n",
            "Epoch 14/20\n",
            "126/146 [========================>.....] - ETA: 0s - loss: 2.8331 - root_mean_squared_error: 1.6832"
          ]
        },
        {
          "output_type": "stream",
          "name": "stderr",
          "text": [
            "WARNING:absl:Found untraced functions such as _jit_compiled_convolution_op, _update_step_xla while saving (showing 2 of 2). These functions will not be directly callable after loading.\n"
          ]
        },
        {
          "output_type": "stream",
          "name": "stdout",
          "text": [
            "\b\b\b\b\b\b\b\b\b\b\b\b\b\b\b\b\b\b\b\b\b\b\b\b\b\b\b\b\b\b\b\b\b\b\b\b\b\b\b\b\b\b\b\b\b\b\b\b\b\b\b\b\b\b\b\b\b\b\b\b\b\b\b\b\b\b\b\b\b\b\b\b\b\b\b\b\b\b\b\b\b\b\b\b\b\b\b\b\b\b\b\b\b\b\b\b\b\b\b\r146/146 [==============================] - 2s 11ms/step - loss: 2.8026 - root_mean_squared_error: 1.6741 - val_loss: 3.2799 - val_root_mean_squared_error: 1.8111\n",
            "Epoch 15/20\n",
            "146/146 [==============================] - 0s 3ms/step - loss: 2.7853 - root_mean_squared_error: 1.6689 - val_loss: 3.2828 - val_root_mean_squared_error: 1.8119\n",
            "Epoch 16/20\n",
            "137/146 [===========================>..] - ETA: 0s - loss: 2.7549 - root_mean_squared_error: 1.6598"
          ]
        },
        {
          "output_type": "stream",
          "name": "stderr",
          "text": [
            "WARNING:absl:Found untraced functions such as _jit_compiled_convolution_op, _update_step_xla while saving (showing 2 of 2). These functions will not be directly callable after loading.\n"
          ]
        },
        {
          "output_type": "stream",
          "name": "stdout",
          "text": [
            "\b\b\b\b\b\b\b\b\b\b\b\b\b\b\b\b\b\b\b\b\b\b\b\b\b\b\b\b\b\b\b\b\b\b\b\b\b\b\b\b\b\b\b\b\b\b\b\b\b\b\b\b\b\b\b\b\b\b\b\b\b\b\b\b\b\b\b\b\b\b\b\b\b\b\b\b\b\b\b\b\b\b\b\b\b\b\b\b\b\b\b\b\b\b\b\b\b\b\b\r146/146 [==============================] - 2s 13ms/step - loss: 2.7531 - root_mean_squared_error: 1.6592 - val_loss: 3.2690 - val_root_mean_squared_error: 1.8080\n",
            "Epoch 17/20\n",
            "143/146 [============================>.] - ETA: 0s - loss: 2.7206 - root_mean_squared_error: 1.6494"
          ]
        },
        {
          "output_type": "stream",
          "name": "stderr",
          "text": [
            "WARNING:absl:Found untraced functions such as _jit_compiled_convolution_op, _update_step_xla while saving (showing 2 of 2). These functions will not be directly callable after loading.\n"
          ]
        },
        {
          "output_type": "stream",
          "name": "stdout",
          "text": [
            "\b\b\b\b\b\b\b\b\b\b\b\b\b\b\b\b\b\b\b\b\b\b\b\b\b\b\b\b\b\b\b\b\b\b\b\b\b\b\b\b\b\b\b\b\b\b\b\b\b\b\b\b\b\b\b\b\b\b\b\b\b\b\b\b\b\b\b\b\b\b\b\b\b\b\b\b\b\b\b\b\b\b\b\b\b\b\b\b\b\b\b\b\b\b\b\b\b\b\b\r146/146 [==============================] - 2s 11ms/step - loss: 2.7253 - root_mean_squared_error: 1.6508 - val_loss: 3.2631 - val_root_mean_squared_error: 1.8064\n",
            "Epoch 18/20\n",
            "146/146 [==============================] - 0s 2ms/step - loss: 2.6948 - root_mean_squared_error: 1.6416 - val_loss: 3.2675 - val_root_mean_squared_error: 1.8076\n",
            "Epoch 19/20\n",
            "121/146 [=======================>......] - ETA: 0s - loss: 2.6843 - root_mean_squared_error: 1.6384"
          ]
        },
        {
          "output_type": "stream",
          "name": "stderr",
          "text": [
            "WARNING:absl:Found untraced functions such as _jit_compiled_convolution_op, _update_step_xla while saving (showing 2 of 2). These functions will not be directly callable after loading.\n"
          ]
        },
        {
          "output_type": "stream",
          "name": "stdout",
          "text": [
            "\b\b\b\b\b\b\b\b\b\b\b\b\b\b\b\b\b\b\b\b\b\b\b\b\b\b\b\b\b\b\b\b\b\b\b\b\b\b\b\b\b\b\b\b\b\b\b\b\b\b\b\b\b\b\b\b\b\b\b\b\b\b\b\b\b\b\b\b\b\b\b\b\b\b\b\b\b\b\b\b\b\b\b\b\b\b\b\b\b\b\b\b\b\b\b\b\b\b\b\r146/146 [==============================] - 1s 9ms/step - loss: 2.6659 - root_mean_squared_error: 1.6328 - val_loss: 3.2567 - val_root_mean_squared_error: 1.8046\n",
            "Epoch 20/20\n",
            "146/146 [==============================] - 0s 3ms/step - loss: 2.6356 - root_mean_squared_error: 1.6235 - val_loss: 3.2608 - val_root_mean_squared_error: 1.8058\n"
          ]
        },
        {
          "output_type": "execute_result",
          "data": {
            "text/plain": [
              "<keras.callbacks.History at 0x7f9ea7f4b520>"
            ]
          },
          "metadata": {},
          "execution_count": 146
        }
      ],
      "id": "fUe56iajetZe"
    },
    {
      "cell_type": "code",
      "metadata": {
        "id": "GikVcSq4NOL-"
      },
      "source": [
        "cnn_model = load_model('cnn_model/')"
      ],
      "execution_count": null,
      "outputs": [],
      "id": "GikVcSq4NOL-"
    },
    {
      "cell_type": "code",
      "metadata": {
        "colab": {
          "base_uri": "https://localhost:8080/",
          "height": 441
        },
        "outputId": "92a2e681-d174-4030-a107-8d800b3d7f47",
        "id": "cbwVKQkmNOME"
      },
      "source": [
        "train_predictions = cnn_model.predict(X1_train).flatten()\n",
        "train_results = pd.DataFrame(data={'Train Predictions':train_predictions, 'Actuals':y1_train})\n",
        "train_results"
      ],
      "execution_count": null,
      "outputs": [
        {
          "output_type": "stream",
          "name": "stdout",
          "text": [
            "146/146 [==============================] - 0s 2ms/step\n"
          ]
        },
        {
          "output_type": "execute_result",
          "data": {
            "text/plain": [
              "      Train Predictions    Actuals\n",
              "0             83.087265  79.376909\n",
              "1             81.903671  83.855121\n",
              "2             81.346008  80.243575\n",
              "3             81.565704  84.388454\n",
              "4             81.755562  79.910242\n",
              "...                 ...        ...\n",
              "4647          76.093323  78.400000\n",
              "4648          76.898697  76.666667\n",
              "4649          77.342743  76.600000\n",
              "4650          77.326935  75.533333\n",
              "4651          77.158264  76.266667\n",
              "\n",
              "[4652 rows x 2 columns]"
            ],
            "text/html": [
              "\n",
              "  <div id=\"df-a26e0033-e20e-4a0c-8245-c3c355536f9b\">\n",
              "    <div class=\"colab-df-container\">\n",
              "      <div>\n",
              "<style scoped>\n",
              "    .dataframe tbody tr th:only-of-type {\n",
              "        vertical-align: middle;\n",
              "    }\n",
              "\n",
              "    .dataframe tbody tr th {\n",
              "        vertical-align: top;\n",
              "    }\n",
              "\n",
              "    .dataframe thead th {\n",
              "        text-align: right;\n",
              "    }\n",
              "</style>\n",
              "<table border=\"1\" class=\"dataframe\">\n",
              "  <thead>\n",
              "    <tr style=\"text-align: right;\">\n",
              "      <th></th>\n",
              "      <th>Train Predictions</th>\n",
              "      <th>Actuals</th>\n",
              "    </tr>\n",
              "  </thead>\n",
              "  <tbody>\n",
              "    <tr>\n",
              "      <th>0</th>\n",
              "      <td>83.087265</td>\n",
              "      <td>79.376909</td>\n",
              "    </tr>\n",
              "    <tr>\n",
              "      <th>1</th>\n",
              "      <td>81.903671</td>\n",
              "      <td>83.855121</td>\n",
              "    </tr>\n",
              "    <tr>\n",
              "      <th>2</th>\n",
              "      <td>81.346008</td>\n",
              "      <td>80.243575</td>\n",
              "    </tr>\n",
              "    <tr>\n",
              "      <th>3</th>\n",
              "      <td>81.565704</td>\n",
              "      <td>84.388454</td>\n",
              "    </tr>\n",
              "    <tr>\n",
              "      <th>4</th>\n",
              "      <td>81.755562</td>\n",
              "      <td>79.910242</td>\n",
              "    </tr>\n",
              "    <tr>\n",
              "      <th>...</th>\n",
              "      <td>...</td>\n",
              "      <td>...</td>\n",
              "    </tr>\n",
              "    <tr>\n",
              "      <th>4647</th>\n",
              "      <td>76.093323</td>\n",
              "      <td>78.400000</td>\n",
              "    </tr>\n",
              "    <tr>\n",
              "      <th>4648</th>\n",
              "      <td>76.898697</td>\n",
              "      <td>76.666667</td>\n",
              "    </tr>\n",
              "    <tr>\n",
              "      <th>4649</th>\n",
              "      <td>77.342743</td>\n",
              "      <td>76.600000</td>\n",
              "    </tr>\n",
              "    <tr>\n",
              "      <th>4650</th>\n",
              "      <td>77.326935</td>\n",
              "      <td>75.533333</td>\n",
              "    </tr>\n",
              "    <tr>\n",
              "      <th>4651</th>\n",
              "      <td>77.158264</td>\n",
              "      <td>76.266667</td>\n",
              "    </tr>\n",
              "  </tbody>\n",
              "</table>\n",
              "<p>4652 rows × 2 columns</p>\n",
              "</div>\n",
              "      <button class=\"colab-df-convert\" onclick=\"convertToInteractive('df-a26e0033-e20e-4a0c-8245-c3c355536f9b')\"\n",
              "              title=\"Convert this dataframe to an interactive table.\"\n",
              "              style=\"display:none;\">\n",
              "        \n",
              "  <svg xmlns=\"http://www.w3.org/2000/svg\" height=\"24px\"viewBox=\"0 0 24 24\"\n",
              "       width=\"24px\">\n",
              "    <path d=\"M0 0h24v24H0V0z\" fill=\"none\"/>\n",
              "    <path d=\"M18.56 5.44l.94 2.06.94-2.06 2.06-.94-2.06-.94-.94-2.06-.94 2.06-2.06.94zm-11 1L8.5 8.5l.94-2.06 2.06-.94-2.06-.94L8.5 2.5l-.94 2.06-2.06.94zm10 10l.94 2.06.94-2.06 2.06-.94-2.06-.94-.94-2.06-.94 2.06-2.06.94z\"/><path d=\"M17.41 7.96l-1.37-1.37c-.4-.4-.92-.59-1.43-.59-.52 0-1.04.2-1.43.59L10.3 9.45l-7.72 7.72c-.78.78-.78 2.05 0 2.83L4 21.41c.39.39.9.59 1.41.59.51 0 1.02-.2 1.41-.59l7.78-7.78 2.81-2.81c.8-.78.8-2.07 0-2.86zM5.41 20L4 18.59l7.72-7.72 1.47 1.35L5.41 20z\"/>\n",
              "  </svg>\n",
              "      </button>\n",
              "      \n",
              "  <style>\n",
              "    .colab-df-container {\n",
              "      display:flex;\n",
              "      flex-wrap:wrap;\n",
              "      gap: 12px;\n",
              "    }\n",
              "\n",
              "    .colab-df-convert {\n",
              "      background-color: #E8F0FE;\n",
              "      border: none;\n",
              "      border-radius: 50%;\n",
              "      cursor: pointer;\n",
              "      display: none;\n",
              "      fill: #1967D2;\n",
              "      height: 32px;\n",
              "      padding: 0 0 0 0;\n",
              "      width: 32px;\n",
              "    }\n",
              "\n",
              "    .colab-df-convert:hover {\n",
              "      background-color: #E2EBFA;\n",
              "      box-shadow: 0px 1px 2px rgba(60, 64, 67, 0.3), 0px 1px 3px 1px rgba(60, 64, 67, 0.15);\n",
              "      fill: #174EA6;\n",
              "    }\n",
              "\n",
              "    [theme=dark] .colab-df-convert {\n",
              "      background-color: #3B4455;\n",
              "      fill: #D2E3FC;\n",
              "    }\n",
              "\n",
              "    [theme=dark] .colab-df-convert:hover {\n",
              "      background-color: #434B5C;\n",
              "      box-shadow: 0px 1px 3px 1px rgba(0, 0, 0, 0.15);\n",
              "      filter: drop-shadow(0px 1px 2px rgba(0, 0, 0, 0.3));\n",
              "      fill: #FFFFFF;\n",
              "    }\n",
              "  </style>\n",
              "\n",
              "      <script>\n",
              "        const buttonEl =\n",
              "          document.querySelector('#df-a26e0033-e20e-4a0c-8245-c3c355536f9b button.colab-df-convert');\n",
              "        buttonEl.style.display =\n",
              "          google.colab.kernel.accessAllowed ? 'block' : 'none';\n",
              "\n",
              "        async function convertToInteractive(key) {\n",
              "          const element = document.querySelector('#df-a26e0033-e20e-4a0c-8245-c3c355536f9b');\n",
              "          const dataTable =\n",
              "            await google.colab.kernel.invokeFunction('convertToInteractive',\n",
              "                                                     [key], {});\n",
              "          if (!dataTable) return;\n",
              "\n",
              "          const docLinkHtml = 'Like what you see? Visit the ' +\n",
              "            '<a target=\"_blank\" href=https://colab.research.google.com/notebooks/data_table.ipynb>data table notebook</a>'\n",
              "            + ' to learn more about interactive tables.';\n",
              "          element.innerHTML = '';\n",
              "          dataTable['output_type'] = 'display_data';\n",
              "          await google.colab.output.renderOutput(dataTable, element);\n",
              "          const docLink = document.createElement('div');\n",
              "          docLink.innerHTML = docLinkHtml;\n",
              "          element.appendChild(docLink);\n",
              "        }\n",
              "      </script>\n",
              "    </div>\n",
              "  </div>\n",
              "  "
            ]
          },
          "metadata": {},
          "execution_count": 148
        }
      ],
      "id": "cbwVKQkmNOME"
    },
    {
      "cell_type": "code",
      "metadata": {
        "colab": {
          "base_uri": "https://localhost:8080/",
          "height": 447
        },
        "outputId": "bea532c5-275b-401b-fdff-41c61e107d22",
        "id": "Zj04nV4vNOMF"
      },
      "source": [
        "import matplotlib.pyplot as plt\n",
        "plt.plot(train_results['Train Predictions'][2600:2700])\n",
        "plt.plot(train_results['Actuals'][2600:2700])\n",
        "plt.legend(['Train Predictions', 'Actuals'])\n",
        "print('MSE for Univariate CNN model (train):', mse(train_results['Actuals'],train_results['Train Predictions']))\n",
        "plt.show()"
      ],
      "execution_count": null,
      "outputs": [
        {
          "output_type": "stream",
          "name": "stdout",
          "text": [
            "MSE for Univariate CNN model (train): 2.6474732246853003\n"
          ]
        },
        {
          "output_type": "display_data",
          "data": {
            "text/plain": [
              "<Figure size 640x480 with 1 Axes>"
            ],
            "image/png": "[encoded data removed]"
          },
          "metadata": {}
        }
      ],
      "id": "Zj04nV4vNOMF"
    },
    {
      "cell_type": "code",
      "metadata": {
        "colab": {
          "base_uri": "https://localhost:8080/",
          "height": 441
        },
        "outputId": "270040ae-0f1f-4735-cc43-af9a9d6ff13c",
        "id": "9yJs7eDMNOMF"
      },
      "source": [
        "val_predictions = cnn_model.predict(X1_val).flatten()\n",
        "val_results = pd.DataFrame(data={'Val Predictions':val_predictions, 'Actuals':y1_val})\n",
        "val_results"
      ],
      "execution_count": null,
      "outputs": [
        {
          "output_type": "stream",
          "name": "stdout",
          "text": [
            "19/19 [==============================] - 0s 2ms/step\n"
          ]
        },
        {
          "output_type": "execute_result",
          "data": {
            "text/plain": [
              "     Val Predictions    Actuals\n",
              "0          76.608871  76.266667\n",
              "1          76.335495  76.733333\n",
              "2          76.292740  75.933333\n",
              "3          76.293076  75.533333\n",
              "4          76.200981  75.466667\n",
              "..               ...        ...\n",
              "576        75.368797  80.666667\n",
              "577        76.593666  78.000000\n",
              "578        77.785393  74.466667\n",
              "579        77.927765  73.200000\n",
              "580        77.110092  72.866667\n",
              "\n",
              "[581 rows x 2 columns]"
            ],
            "text/html": [
              "\n",
              "  <div id=\"df-07cfdbfc-655e-4b78-933f-330c27807319\">\n",
              "    <div class=\"colab-df-container\">\n",
              "      <div>\n",
              "<style scoped>\n",
              "    .dataframe tbody tr th:only-of-type {\n",
              "        vertical-align: middle;\n",
              "    }\n",
              "\n",
              "    .dataframe tbody tr th {\n",
              "        vertical-align: top;\n",
              "    }\n",
              "\n",
              "    .dataframe thead th {\n",
              "        text-align: right;\n",
              "    }\n",
              "</style>\n",
              "<table border=\"1\" class=\"dataframe\">\n",
              "  <thead>\n",
              "    <tr style=\"text-align: right;\">\n",
              "      <th></th>\n",
              "      <th>Val Predictions</th>\n",
              "      <th>Actuals</th>\n",
              "    </tr>\n",
              "  </thead>\n",
              "  <tbody>\n",
              "    <tr>\n",
              "      <th>0</th>\n",
              "      <td>76.608871</td>\n",
              "      <td>76.266667</td>\n",
              "    </tr>\n",
              "    <tr>\n",
              "      <th>1</th>\n",
              "      <td>76.335495</td>\n",
              "      <td>76.733333</td>\n",
              "    </tr>\n",
              "    <tr>\n",
              "      <th>2</th>\n",
              "      <td>76.292740</td>\n",
              "      <td>75.933333</td>\n",
              "    </tr>\n",
              "    <tr>\n",
              "      <th>3</th>\n",
              "      <td>76.293076</td>\n",
              "      <td>75.533333</td>\n",
              "    </tr>\n",
              "    <tr>\n",
              "      <th>4</th>\n",
              "      <td>76.200981</td>\n",
              "      <td>75.466667</td>\n",
              "    </tr>\n",
              "    <tr>\n",
              "      <th>...</th>\n",
              "      <td>...</td>\n",
              "      <td>...</td>\n",
              "    </tr>\n",
              "    <tr>\n",
              "      <th>576</th>\n",
              "      <td>75.368797</td>\n",
              "      <td>80.666667</td>\n",
              "    </tr>\n",
              "    <tr>\n",
              "      <th>577</th>\n",
              "      <td>76.593666</td>\n",
              "      <td>78.000000</td>\n",
              "    </tr>\n",
              "    <tr>\n",
              "      <th>578</th>\n",
              "      <td>77.785393</td>\n",
              "      <td>74.466667</td>\n",
              "    </tr>\n",
              "    <tr>\n",
              "      <th>579</th>\n",
              "      <td>77.927765</td>\n",
              "      <td>73.200000</td>\n",
              "    </tr>\n",
              "    <tr>\n",
              "      <th>580</th>\n",
              "      <td>77.110092</td>\n",
              "      <td>72.866667</td>\n",
              "    </tr>\n",
              "  </tbody>\n",
              "</table>\n",
              "<p>581 rows × 2 columns</p>\n",
              "</div>\n",
              "      <button class=\"colab-df-convert\" onclick=\"convertToInteractive('df-07cfdbfc-655e-4b78-933f-330c27807319')\"\n",
              "              title=\"Convert this dataframe to an interactive table.\"\n",
              "              style=\"display:none;\">\n",
              "        \n",
              "  <svg xmlns=\"http://www.w3.org/2000/svg\" height=\"24px\"viewBox=\"0 0 24 24\"\n",
              "       width=\"24px\">\n",
              "    <path d=\"M0 0h24v24H0V0z\" fill=\"none\"/>\n",
              "    <path d=\"M18.56 5.44l.94 2.06.94-2.06 2.06-.94-2.06-.94-.94-2.06-.94 2.06-2.06.94zm-11 1L8.5 8.5l.94-2.06 2.06-.94-2.06-.94L8.5 2.5l-.94 2.06-2.06.94zm10 10l.94 2.06.94-2.06 2.06-.94-2.06-.94-.94-2.06-.94 2.06-2.06.94z\"/><path d=\"M17.41 7.96l-1.37-1.37c-.4-.4-.92-.59-1.43-.59-.52 0-1.04.2-1.43.59L10.3 9.45l-7.72 7.72c-.78.78-.78 2.05 0 2.83L4 21.41c.39.39.9.59 1.41.59.51 0 1.02-.2 1.41-.59l7.78-7.78 2.81-2.81c.8-.78.8-2.07 0-2.86zM5.41 20L4 18.59l7.72-7.72 1.47 1.35L5.41 20z\"/>\n",
              "  </svg>\n",
              "      </button>\n",
              "      \n",
              "  <style>\n",
              "    .colab-df-container {\n",
              "      display:flex;\n",
              "      flex-wrap:wrap;\n",
              "      gap: 12px;\n",
              "    }\n",
              "\n",
              "    .colab-df-convert {\n",
              "      background-color: #E8F0FE;\n",
              "      border: none;\n",
              "      border-radius: 50%;\n",
              "      cursor: pointer;\n",
              "      display: none;\n",
              "      fill: #1967D2;\n",
              "      height: 32px;\n",
              "      padding: 0 0 0 0;\n",
              "      width: 32px;\n",
              "    }\n",
              "\n",
              "    .colab-df-convert:hover {\n",
              "      background-color: #E2EBFA;\n",
              "      box-shadow: 0px 1px 2px rgba(60, 64, 67, 0.3), 0px 1px 3px 1px rgba(60, 64, 67, 0.15);\n",
              "      fill: #174EA6;\n",
              "    }\n",
              "\n",
              "    [theme=dark] .colab-df-convert {\n",
              "      background-color: #3B4455;\n",
              "      fill: #D2E3FC;\n",
              "    }\n",
              "\n",
              "    [theme=dark] .colab-df-convert:hover {\n",
              "      background-color: #434B5C;\n",
              "      box-shadow: 0px 1px 3px 1px rgba(0, 0, 0, 0.15);\n",
              "      filter: drop-shadow(0px 1px 2px rgba(0, 0, 0, 0.3));\n",
              "      fill: #FFFFFF;\n",
              "    }\n",
              "  </style>\n",
              "\n",
              "      <script>\n",
              "        const buttonEl =\n",
              "          document.querySelector('#df-07cfdbfc-655e-4b78-933f-330c27807319 button.colab-df-convert');\n",
              "        buttonEl.style.display =\n",
              "          google.colab.kernel.accessAllowed ? 'block' : 'none';\n",
              "\n",
              "        async function convertToInteractive(key) {\n",
              "          const element = document.querySelector('#df-07cfdbfc-655e-4b78-933f-330c27807319');\n",
              "          const dataTable =\n",
              "            await google.colab.kernel.invokeFunction('convertToInteractive',\n",
              "                                                     [key], {});\n",
              "          if (!dataTable) return;\n",
              "\n",
              "          const docLinkHtml = 'Like what you see? Visit the ' +\n",
              "            '<a target=\"_blank\" href=https://colab.research.google.com/notebooks/data_table.ipynb>data table notebook</a>'\n",
              "            + ' to learn more about interactive tables.';\n",
              "          element.innerHTML = '';\n",
              "          dataTable['output_type'] = 'display_data';\n",
              "          await google.colab.output.renderOutput(dataTable, element);\n",
              "          const docLink = document.createElement('div');\n",
              "          docLink.innerHTML = docLinkHtml;\n",
              "          element.appendChild(docLink);\n",
              "        }\n",
              "      </script>\n",
              "    </div>\n",
              "  </div>\n",
              "  "
            ]
          },
          "metadata": {},
          "execution_count": 150
        }
      ],
      "id": "9yJs7eDMNOMF"
    },
    {
      "cell_type": "code",
      "metadata": {
        "colab": {
          "base_uri": "https://localhost:8080/",
          "height": 447
        },
        "outputId": "c26942cf-2757-4b55-b874-f2116b873de2",
        "id": "wklIh_tqNOMF"
      },
      "source": [
        "plt.plot(val_results['Val Predictions'][:100])\n",
        "plt.plot(val_results['Actuals'][:100])\n",
        "plt.legend(['Validation Predictions', 'Actuals'])\n",
        "print('MSE for Univariate CNN model (validation):', mse(val_results['Actuals'],val_results['Val Predictions']))\n",
        "plt.show()"
      ],
      "execution_count": null,
      "outputs": [
        {
          "output_type": "stream",
          "name": "stdout",
          "text": [
            "MSE for Univariate CNN model (validation): 3.256722051317531\n"
          ]
        },
        {
          "output_type": "display_data",
          "data": {
            "text/plain": [
              "<Figure size 640x480 with 1 Axes>"
            ],
            "image/png": "[encoded data removed]"
          },
          "metadata": {}
        }
      ],
      "id": "wklIh_tqNOMF"
    },
    {
      "cell_type": "code",
      "metadata": {
        "colab": {
          "base_uri": "https://localhost:8080/",
          "height": 441
        },
        "outputId": "a61611fd-0a62-4e40-d299-4602a8acc5eb",
        "id": "Skc9BlkKNOMF"
      },
      "source": [
        "test_predictions = cnn_model.predict(X1_test).flatten()\n",
        "test_results = pd.DataFrame(data={'Test Predictions':test_predictions, 'Actuals':y1_test})\n",
        "test_results"
      ],
      "execution_count": null,
      "outputs": [
        {
          "output_type": "stream",
          "name": "stdout",
          "text": [
            "19/19 [==============================] - 0s 2ms/step\n"
          ]
        },
        {
          "output_type": "execute_result",
          "data": {
            "text/plain": [
              "     Test Predictions    Actuals\n",
              "0           75.717026  76.400000\n",
              "1           74.700264  75.733333\n",
              "2           74.742325  75.733333\n",
              "3           74.871277  73.800000\n",
              "4           75.170364  74.333333\n",
              "..                ...        ...\n",
              "577         77.511696  75.400000\n",
              "578         77.120842  76.800000\n",
              "579         76.370010  75.066667\n",
              "580         75.877609  74.533333\n",
              "581         75.523834  76.000000\n",
              "\n",
              "[582 rows x 2 columns]"
            ],
            "text/html": [
              "\n",
              "  <div id=\"df-a23626ad-7b11-4360-bac5-6884095d0846\">\n",
              "    <div class=\"colab-df-container\">\n",
              "      <div>\n",
              "<style scoped>\n",
              "    .dataframe tbody tr th:only-of-type {\n",
              "        vertical-align: middle;\n",
              "    }\n",
              "\n",
              "    .dataframe tbody tr th {\n",
              "        vertical-align: top;\n",
              "    }\n",
              "\n",
              "    .dataframe thead th {\n",
              "        text-align: right;\n",
              "    }\n",
              "</style>\n",
              "<table border=\"1\" class=\"dataframe\">\n",
              "  <thead>\n",
              "    <tr style=\"text-align: right;\">\n",
              "      <th></th>\n",
              "      <th>Test Predictions</th>\n",
              "      <th>Actuals</th>\n",
              "    </tr>\n",
              "  </thead>\n",
              "  <tbody>\n",
              "    <tr>\n",
              "      <th>0</th>\n",
              "      <td>75.717026</td>\n",
              "      <td>76.400000</td>\n",
              "    </tr>\n",
              "    <tr>\n",
              "      <th>1</th>\n",
              "      <td>74.700264</td>\n",
              "      <td>75.733333</td>\n",
              "    </tr>\n",
              "    <tr>\n",
              "      <th>2</th>\n",
              "      <td>74.742325</td>\n",
              "      <td>75.733333</td>\n",
              "    </tr>\n",
              "    <tr>\n",
              "      <th>3</th>\n",
              "      <td>74.871277</td>\n",
              "      <td>73.800000</td>\n",
              "    </tr>\n",
              "    <tr>\n",
              "      <th>4</th>\n",
              "      <td>75.170364</td>\n",
              "      <td>74.333333</td>\n",
              "    </tr>\n",
              "    <tr>\n",
              "      <th>...</th>\n",
              "      <td>...</td>\n",
              "      <td>...</td>\n",
              "    </tr>\n",
              "    <tr>\n",
              "      <th>577</th>\n",
              "      <td>77.511696</td>\n",
              "      <td>75.400000</td>\n",
              "    </tr>\n",
              "    <tr>\n",
              "      <th>578</th>\n",
              "      <td>77.120842</td>\n",
              "      <td>76.800000</td>\n",
              "    </tr>\n",
              "    <tr>\n",
              "      <th>579</th>\n",
              "      <td>76.370010</td>\n",
              "      <td>75.066667</td>\n",
              "    </tr>\n",
              "    <tr>\n",
              "      <th>580</th>\n",
              "      <td>75.877609</td>\n",
              "      <td>74.533333</td>\n",
              "    </tr>\n",
              "    <tr>\n",
              "      <th>581</th>\n",
              "      <td>75.523834</td>\n",
              "      <td>76.000000</td>\n",
              "    </tr>\n",
              "  </tbody>\n",
              "</table>\n",
              "<p>582 rows × 2 columns</p>\n",
              "</div>\n",
              "      <button class=\"colab-df-convert\" onclick=\"convertToInteractive('df-a23626ad-7b11-4360-bac5-6884095d0846')\"\n",
              "              title=\"Convert this dataframe to an interactive table.\"\n",
              "              style=\"display:none;\">\n",
              "        \n",
              "  <svg xmlns=\"http://www.w3.org/2000/svg\" height=\"24px\"viewBox=\"0 0 24 24\"\n",
              "       width=\"24px\">\n",
              "    <path d=\"M0 0h24v24H0V0z\" fill=\"none\"/>\n",
              "    <path d=\"M18.56 5.44l.94 2.06.94-2.06 2.06-.94-2.06-.94-.94-2.06-.94 2.06-2.06.94zm-11 1L8.5 8.5l.94-2.06 2.06-.94-2.06-.94L8.5 2.5l-.94 2.06-2.06.94zm10 10l.94 2.06.94-2.06 2.06-.94-2.06-.94-.94-2.06-.94 2.06-2.06.94z\"/><path d=\"M17.41 7.96l-1.37-1.37c-.4-.4-.92-.59-1.43-.59-.52 0-1.04.2-1.43.59L10.3 9.45l-7.72 7.72c-.78.78-.78 2.05 0 2.83L4 21.41c.39.39.9.59 1.41.59.51 0 1.02-.2 1.41-.59l7.78-7.78 2.81-2.81c.8-.78.8-2.07 0-2.86zM5.41 20L4 18.59l7.72-7.72 1.47 1.35L5.41 20z\"/>\n",
              "  </svg>\n",
              "      </button>\n",
              "      \n",
              "  <style>\n",
              "    .colab-df-container {\n",
              "      display:flex;\n",
              "      flex-wrap:wrap;\n",
              "      gap: 12px;\n",
              "    }\n",
              "\n",
              "    .colab-df-convert {\n",
              "      background-color: #E8F0FE;\n",
              "      border: none;\n",
              "      border-radius: 50%;\n",
              "      cursor: pointer;\n",
              "      display: none;\n",
              "      fill: #1967D2;\n",
              "      height: 32px;\n",
              "      padding: 0 0 0 0;\n",
              "      width: 32px;\n",
              "    }\n",
              "\n",
              "    .colab-df-convert:hover {\n",
              "      background-color: #E2EBFA;\n",
              "      box-shadow: 0px 1px 2px rgba(60, 64, 67, 0.3), 0px 1px 3px 1px rgba(60, 64, 67, 0.15);\n",
              "      fill: #174EA6;\n",
              "    }\n",
              "\n",
              "    [theme=dark] .colab-df-convert {\n",
              "      background-color: #3B4455;\n",
              "      fill: #D2E3FC;\n",
              "    }\n",
              "\n",
              "    [theme=dark] .colab-df-convert:hover {\n",
              "      background-color: #434B5C;\n",
              "      box-shadow: 0px 1px 3px 1px rgba(0, 0, 0, 0.15);\n",
              "      filter: drop-shadow(0px 1px 2px rgba(0, 0, 0, 0.3));\n",
              "      fill: #FFFFFF;\n",
              "    }\n",
              "  </style>\n",
              "\n",
              "      <script>\n",
              "        const buttonEl =\n",
              "          document.querySelector('#df-a23626ad-7b11-4360-bac5-6884095d0846 button.colab-df-convert');\n",
              "        buttonEl.style.display =\n",
              "          google.colab.kernel.accessAllowed ? 'block' : 'none';\n",
              "\n",
              "        async function convertToInteractive(key) {\n",
              "          const element = document.querySelector('#df-a23626ad-7b11-4360-bac5-6884095d0846');\n",
              "          const dataTable =\n",
              "            await google.colab.kernel.invokeFunction('convertToInteractive',\n",
              "                                                     [key], {});\n",
              "          if (!dataTable) return;\n",
              "\n",
              "          const docLinkHtml = 'Like what you see? Visit the ' +\n",
              "            '<a target=\"_blank\" href=https://colab.research.google.com/notebooks/data_table.ipynb>data table notebook</a>'\n",
              "            + ' to learn more about interactive tables.';\n",
              "          element.innerHTML = '';\n",
              "          dataTable['output_type'] = 'display_data';\n",
              "          await google.colab.output.renderOutput(dataTable, element);\n",
              "          const docLink = document.createElement('div');\n",
              "          docLink.innerHTML = docLinkHtml;\n",
              "          element.appendChild(docLink);\n",
              "        }\n",
              "      </script>\n",
              "    </div>\n",
              "  </div>\n",
              "  "
            ]
          },
          "metadata": {},
          "execution_count": 152
        }
      ],
      "id": "Skc9BlkKNOMF"
    },
    {
      "cell_type": "code",
      "metadata": {
        "colab": {
          "base_uri": "https://localhost:8080/",
          "height": 447
        },
        "outputId": "48385b8e-65b9-4727-dac5-9b1424775daf",
        "id": "Pc9CMY5KNOMF"
      },
      "source": [
        "plt.plot(test_results['Test Predictions'][200:300])\n",
        "plt.plot(test_results['Actuals'][200:300])\n",
        "plt.legend(['Test Predictions', 'Actuals'])\n",
        "print('MSE for Univariate CNN model (test):', mse(test_results['Actuals'],test_results['Test Predictions']))\n",
        "plt.show()"
      ],
      "execution_count": null,
      "outputs": [
        {
          "output_type": "stream",
          "name": "stdout",
          "text": [
            "MSE for Univariate CNN model (test): 5.577810724519063\n"
          ]
        },
        {
          "output_type": "display_data",
          "data": {
            "text/plain": [
              "<Figure size 640x480 with 1 Axes>"
            ],
            "image/png": "[encoded data removed]"
          },
          "metadata": {}
        }
      ],
      "id": "Pc9CMY5KNOMF"
    },
    {
      "cell_type": "markdown",
      "source": [
        "##Univariate GRU (Gated Recurrent Unit)"
      ],
      "metadata": {
        "id": "Gr3WdhvjMwjI"
      },
      "id": "Gr3WdhvjMwjI"
    },
    {
      "cell_type": "code",
      "metadata": {
        "id": "_0mmRGP8exPo"
      },
      "source": [
        "def get_gru_model():\n",
        "  model = Sequential()\n",
        "  model.add(InputLayer((5, 1)))\n",
        "  model.add(GRU(64))\n",
        "  model.add(Dense(8, 'relu'))\n",
        "  model.add(Dense(1, 'linear'))\n",
        "  model.compile(loss=MeanSquaredError(), optimizer=Adam(learning_rate=0.002), metrics=[RootMeanSquaredError()])\n",
        "  return model"
      ],
      "execution_count": null,
      "outputs": [],
      "id": "_0mmRGP8exPo"
    },
    {
      "cell_type": "code",
      "metadata": {
        "id": "WbQzFWjXfa2i",
        "colab": {
          "base_uri": "https://localhost:8080/"
        },
        "outputId": "8a39342d-fdcb-4042-88df-3e4a471f99f3"
      },
      "source": [
        "gru_model = get_gru_model()\n",
        "gru_model.summary()"
      ],
      "execution_count": null,
      "outputs": [
        {
          "output_type": "stream",
          "name": "stdout",
          "text": [
            "Model: \"sequential_13\"\n",
            "_________________________________________________________________\n",
            " Layer (type)                Output Shape              Param #   \n",
            "=================================================================\n",
            " gru_4 (GRU)                 (None, 64)                12864     \n",
            "                                                                 \n",
            " dense_24 (Dense)            (None, 8)                 520       \n",
            "                                                                 \n",
            " dense_25 (Dense)            (None, 1)                 9         \n",
            "                                                                 \n",
            "=================================================================\n",
            "Total params: 13,393\n",
            "Trainable params: 13,393\n",
            "Non-trainable params: 0\n",
            "_________________________________________________________________\n"
          ]
        }
      ],
      "id": "WbQzFWjXfa2i"
    },
    {
      "cell_type": "code",
      "metadata": {
        "colab": {
          "base_uri": "https://localhost:8080/"
        },
        "id": "BzB6BUOQfivn",
        "outputId": "b1d30c82-0424-49b5-b88d-fc3c50b24fe3"
      },
      "source": [
        "gru_checkpoint = ModelCheckpoint('gru_model/', save_best_only=True)\n",
        "gru_model.fit(X1_train, y1_train, validation_data=(X1_val, y1_val), epochs=20, batch_size=32, callbacks=[gru_checkpoint])"
      ],
      "execution_count": null,
      "outputs": [
        {
          "output_type": "stream",
          "name": "stdout",
          "text": [
            "Epoch 1/20\n",
            "137/146 [===========================>..] - ETA: 0s - loss: 3868.7825 - root_mean_squared_error: 62.1995"
          ]
        },
        {
          "output_type": "stream",
          "name": "stderr",
          "text": [
            "WARNING:absl:Found untraced functions such as _update_step_xla, gru_cell_5_layer_call_fn, gru_cell_5_layer_call_and_return_conditional_losses while saving (showing 3 of 3). These functions will not be directly callable after loading.\n"
          ]
        },
        {
          "output_type": "stream",
          "name": "stdout",
          "text": [
            "\b\b\b\b\b\b\b\b\b\b\b\b\b\b\b\b\b\b\b\b\b\b\b\b\b\b\b\b\b\b\b\b\b\b\b\b\b\b\b\b\b\b\b\b\b\b\b\b\b\b\b\b\b\b\b\b\b\b\b\b\b\b\b\b\b\b\b\b\b\b\b\b\b\b\b\b\b\b\b\b\b\b\b\b\b\b\b\b\b\b\b\b\b\b\b\b\b\b\b\b\b\b\b\r146/146 [==============================] - 10s 42ms/step - loss: 3718.7520 - root_mean_squared_error: 60.9816 - val_loss: 923.8239 - val_root_mean_squared_error: 30.3945\n",
            "Epoch 2/20\n",
            "143/146 [============================>.] - ETA: 0s - loss: 247.0237 - root_mean_squared_error: 15.7170"
          ]
        },
        {
          "output_type": "stream",
          "name": "stderr",
          "text": [
            "WARNING:absl:Found untraced functions such as _update_step_xla, gru_cell_5_layer_call_fn, gru_cell_5_layer_call_and_return_conditional_losses while saving (showing 3 of 3). These functions will not be directly callable after loading.\n"
          ]
        },
        {
          "output_type": "stream",
          "name": "stdout",
          "text": [
            "\b\b\b\b\b\b\b\b\b\b\b\b\b\b\b\b\b\b\b\b\b\b\b\b\b\b\b\b\b\b\b\b\b\b\b\b\b\b\b\b\b\b\b\b\b\b\b\b\b\b\b\b\b\b\b\b\b\b\b\b\b\b\b\b\b\b\b\b\b\b\b\b\b\b\b\b\b\b\b\b\b\b\b\b\b\b\b\b\b\b\b\b\b\b\b\b\b\b\b\b\b\b\r146/146 [==============================] - 7s 46ms/step - loss: 243.1439 - root_mean_squared_error: 15.5931 - val_loss: 19.5443 - val_root_mean_squared_error: 4.4209\n",
            "Epoch 3/20\n",
            "146/146 [==============================] - 1s 8ms/step - loss: 9.4343 - root_mean_squared_error: 3.0715 - val_loss: 24.1568 - val_root_mean_squared_error: 4.9150\n",
            "Epoch 4/20\n",
            "141/146 [===========================>..] - ETA: 0s - loss: 8.8361 - root_mean_squared_error: 2.9726"
          ]
        },
        {
          "output_type": "stream",
          "name": "stderr",
          "text": [
            "WARNING:absl:Found untraced functions such as _update_step_xla, gru_cell_5_layer_call_fn, gru_cell_5_layer_call_and_return_conditional_losses while saving (showing 3 of 3). These functions will not be directly callable after loading.\n"
          ]
        },
        {
          "output_type": "stream",
          "name": "stdout",
          "text": [
            "\b\b\b\b\b\b\b\b\b\b\b\b\b\b\b\b\b\b\b\b\b\b\b\b\b\b\b\b\b\b\b\b\b\b\b\b\b\b\b\b\b\b\b\b\b\b\b\b\b\b\b\b\b\b\b\b\b\b\b\b\b\b\b\b\b\b\b\b\b\b\b\b\b\b\b\b\b\b\b\b\b\b\b\b\b\b\b\b\b\b\b\b\b\b\b\b\b\b\b\r146/146 [==============================] - 6s 38ms/step - loss: 8.8378 - root_mean_squared_error: 2.9728 - val_loss: 13.3038 - val_root_mean_squared_error: 3.6474\n",
            "Epoch 5/20\n",
            "139/146 [===========================>..] - ETA: 0s - loss: 5.3253 - root_mean_squared_error: 2.3077"
          ]
        },
        {
          "output_type": "stream",
          "name": "stderr",
          "text": [
            "WARNING:absl:Found untraced functions such as _update_step_xla, gru_cell_5_layer_call_fn, gru_cell_5_layer_call_and_return_conditional_losses while saving (showing 3 of 3). These functions will not be directly callable after loading.\n"
          ]
        },
        {
          "output_type": "stream",
          "name": "stdout",
          "text": [
            "\b\b\b\b\b\b\b\b\b\b\b\b\b\b\b\b\b\b\b\b\b\b\b\b\b\b\b\b\b\b\b\b\b\b\b\b\b\b\b\b\b\b\b\b\b\b\b\b\b\b\b\b\b\b\b\b\b\b\b\b\b\b\b\b\b\b\b\b\b\b\b\b\b\b\b\b\b\b\b\b\b\b\b\b\b\b\b\b\b\b\b\b\b\b\b\b\b\b\b\r146/146 [==============================] - 6s 44ms/step - loss: 5.2884 - root_mean_squared_error: 2.2997 - val_loss: 9.2385 - val_root_mean_squared_error: 3.0395\n",
            "Epoch 6/20\n",
            "140/146 [===========================>..] - ETA: 0s - loss: 4.8373 - root_mean_squared_error: 2.1994"
          ]
        },
        {
          "output_type": "stream",
          "name": "stderr",
          "text": [
            "WARNING:absl:Found untraced functions such as _update_step_xla, gru_cell_5_layer_call_fn, gru_cell_5_layer_call_and_return_conditional_losses while saving (showing 3 of 3). These functions will not be directly callable after loading.\n"
          ]
        },
        {
          "output_type": "stream",
          "name": "stdout",
          "text": [
            "\b\b\b\b\b\b\b\b\b\b\b\b\b\b\b\b\b\b\b\b\b\b\b\b\b\b\b\b\b\b\b\b\b\b\b\b\b\b\b\b\b\b\b\b\b\b\b\b\b\b\b\b\b\b\b\b\b\b\b\b\b\b\b\b\b\b\b\b\b\b\b\b\b\b\b\b\b\b\b\b\b\b\b\b\b\b\b\b\b\b\b\b\b\b\b\b\b\b\b\r146/146 [==============================] - 6s 44ms/step - loss: 4.8637 - root_mean_squared_error: 2.2054 - val_loss: 4.3943 - val_root_mean_squared_error: 2.0963\n",
            "Epoch 7/20\n",
            "146/146 [==============================] - 1s 6ms/step - loss: 3.9732 - root_mean_squared_error: 1.9933 - val_loss: 5.3033 - val_root_mean_squared_error: 2.3029\n",
            "Epoch 8/20\n",
            "140/146 [===========================>..] - ETA: 0s - loss: 3.2268 - root_mean_squared_error: 1.7963"
          ]
        },
        {
          "output_type": "stream",
          "name": "stderr",
          "text": [
            "WARNING:absl:Found untraced functions such as _update_step_xla, gru_cell_5_layer_call_fn, gru_cell_5_layer_call_and_return_conditional_losses while saving (showing 3 of 3). These functions will not be directly callable after loading.\n"
          ]
        },
        {
          "output_type": "stream",
          "name": "stdout",
          "text": [
            "\b\b\b\b\b\b\b\b\b\b\b\b\b\b\b\b\b\b\b\b\b\b\b\b\b\b\b\b\b\b\b\b\b\b\b\b\b\b\b\b\b\b\b\b\b\b\b\b\b\b\b\b\b\b\b\b\b\b\b\b\b\b\b\b\b\b\b\b\b\b\b\b\b\b\b\b\b\b\b\b\b\b\b\b\b\b\b\b\b\b\b\b\b\b\b\b\b\b\b\r146/146 [==============================] - 13s 90ms/step - loss: 3.2109 - root_mean_squared_error: 1.7919 - val_loss: 2.5829 - val_root_mean_squared_error: 1.6072\n",
            "Epoch 9/20\n",
            "144/146 [============================>.] - ETA: 0s - loss: 2.8891 - root_mean_squared_error: 1.6997"
          ]
        },
        {
          "output_type": "stream",
          "name": "stderr",
          "text": [
            "WARNING:absl:Found untraced functions such as _update_step_xla, gru_cell_5_layer_call_fn, gru_cell_5_layer_call_and_return_conditional_losses while saving (showing 3 of 3). These functions will not be directly callable after loading.\n"
          ]
        },
        {
          "output_type": "stream",
          "name": "stdout",
          "text": [
            "\b\b\b\b\b\b\b\b\b\b\b\b\b\b\b\b\b\b\b\b\b\b\b\b\b\b\b\b\b\b\b\b\b\b\b\b\b\b\b\b\b\b\b\b\b\b\b\b\b\b\b\b\b\b\b\b\b\b\b\b\b\b\b\b\b\b\b\b\b\b\b\b\b\b\b\b\b\b\b\b\b\b\b\b\b\b\b\b\b\b\b\b\b\b\b\b\b\b\b\r146/146 [==============================] - 6s 42ms/step - loss: 2.8835 - root_mean_squared_error: 1.6981 - val_loss: 2.0397 - val_root_mean_squared_error: 1.4282\n",
            "Epoch 10/20\n",
            "141/146 [===========================>..] - ETA: 0s - loss: 2.7955 - root_mean_squared_error: 1.6720"
          ]
        },
        {
          "output_type": "stream",
          "name": "stderr",
          "text": [
            "WARNING:absl:Found untraced functions such as _update_step_xla, gru_cell_5_layer_call_fn, gru_cell_5_layer_call_and_return_conditional_losses while saving (showing 3 of 3). These functions will not be directly callable after loading.\n"
          ]
        },
        {
          "output_type": "stream",
          "name": "stdout",
          "text": [
            "\b\b\b\b\b\b\b\b\b\b\b\b\b\b\b\b\b\b\b\b\b\b\b\b\b\b\b\b\b\b\b\b\b\b\b\b\b\b\b\b\b\b\b\b\b\b\b\b\b\b\b\b\b\b\b\b\b\b\b\b\b\b\b\b\b\b\b\b\b\b\b\b\b\b\b\b\b\b\b\b\b\b\b\b\b\b\b\b\b\b\b\b\b\b\b\b\b\b\b\r146/146 [==============================] - 6s 45ms/step - loss: 2.7974 - root_mean_squared_error: 1.6726 - val_loss: 1.9493 - val_root_mean_squared_error: 1.3962\n",
            "Epoch 11/20\n",
            "146/146 [==============================] - 1s 6ms/step - loss: 2.9541 - root_mean_squared_error: 1.7187 - val_loss: 2.5891 - val_root_mean_squared_error: 1.6091\n",
            "Epoch 12/20\n",
            "146/146 [==============================] - 1s 6ms/step - loss: 2.7806 - root_mean_squared_error: 1.6675 - val_loss: 2.3656 - val_root_mean_squared_error: 1.5381\n",
            "Epoch 13/20\n",
            "146/146 [==============================] - 1s 6ms/step - loss: 2.7523 - root_mean_squared_error: 1.6590 - val_loss: 4.5243 - val_root_mean_squared_error: 2.1270\n",
            "Epoch 14/20\n",
            "146/146 [==============================] - 1s 6ms/step - loss: 2.7464 - root_mean_squared_error: 1.6572 - val_loss: 3.3548 - val_root_mean_squared_error: 1.8316\n",
            "Epoch 15/20\n",
            "146/146 [==============================] - 1s 6ms/step - loss: 2.6390 - root_mean_squared_error: 1.6245 - val_loss: 2.1417 - val_root_mean_squared_error: 1.4635\n",
            "Epoch 16/20\n",
            "146/146 [==============================] - 1s 6ms/step - loss: 2.6040 - root_mean_squared_error: 1.6137 - val_loss: 2.2046 - val_root_mean_squared_error: 1.4848\n",
            "Epoch 17/20\n",
            "141/146 [===========================>..] - ETA: 0s - loss: 2.5960 - root_mean_squared_error: 1.6112"
          ]
        },
        {
          "output_type": "stream",
          "name": "stderr",
          "text": [
            "WARNING:absl:Found untraced functions such as _update_step_xla, gru_cell_5_layer_call_fn, gru_cell_5_layer_call_and_return_conditional_losses while saving (showing 3 of 3). These functions will not be directly callable after loading.\n"
          ]
        },
        {
          "output_type": "stream",
          "name": "stdout",
          "text": [
            "\b\b\b\b\b\b\b\b\b\b\b\b\b\b\b\b\b\b\b\b\b\b\b\b\b\b\b\b\b\b\b\b\b\b\b\b\b\b\b\b\b\b\b\b\b\b\b\b\b\b\b\b\b\b\b\b\b\b\b\b\b\b\b\b\b\b\b\b\b\b\b\b\b\b\b\b\b\b\b\b\b\b\b\b\b\b\b\b\b\b\b\b\b\b\b\b\b\b\b\r146/146 [==============================] - 7s 48ms/step - loss: 2.5932 - root_mean_squared_error: 1.6104 - val_loss: 1.6874 - val_root_mean_squared_error: 1.2990\n",
            "Epoch 18/20\n",
            "138/146 [===========================>..] - ETA: 0s - loss: 2.4017 - root_mean_squared_error: 1.5498"
          ]
        },
        {
          "output_type": "stream",
          "name": "stderr",
          "text": [
            "WARNING:absl:Found untraced functions such as _update_step_xla, gru_cell_5_layer_call_fn, gru_cell_5_layer_call_and_return_conditional_losses while saving (showing 3 of 3). These functions will not be directly callable after loading.\n"
          ]
        },
        {
          "output_type": "stream",
          "name": "stdout",
          "text": [
            "\b\b\b\b\b\b\b\b\b\b\b\b\b\b\b\b\b\b\b\b\b\b\b\b\b\b\b\b\b\b\b\b\b\b\b\b\b\b\b\b\b\b\b\b\b\b\b\b\b\b\b\b\b\b\b\b\b\b\b\b\b\b\b\b\b\b\b\b\b\b\b\b\b\b\b\b\b\b\b\b\b\b\b\b\b\b\b\b\b\b\b\b\b\b\b\b\b\b\b\r146/146 [==============================] - 6s 39ms/step - loss: 2.4076 - root_mean_squared_error: 1.5516 - val_loss: 1.6713 - val_root_mean_squared_error: 1.2928\n",
            "Epoch 19/20\n",
            "146/146 [==============================] - ETA: 0s - loss: 2.2638 - root_mean_squared_error: 1.5046"
          ]
        },
        {
          "output_type": "stream",
          "name": "stderr",
          "text": [
            "WARNING:absl:Found untraced functions such as _update_step_xla, gru_cell_5_layer_call_fn, gru_cell_5_layer_call_and_return_conditional_losses while saving (showing 3 of 3). These functions will not be directly callable after loading.\n"
          ]
        },
        {
          "output_type": "stream",
          "name": "stdout",
          "text": [
            "\b\b\b\b\b\b\b\b\b\b\b\b\b\b\b\b\b\b\b\b\b\b\b\b\b\b\b\b\b\b\b\b\b\b\b\b\b\b\b\b\b\b\b\b\b\b\b\b\b\b\b\b\b\b\b\b\b\b\b\b\b\b\b\b\b\b\b\b\b\b\b\b\b\b\b\b\b\b\b\b\b\b\b\b\b\b\b\b\b\b\b\b\b\b\b\b\b\b\b\r146/146 [==============================] - 7s 47ms/step - loss: 2.2638 - root_mean_squared_error: 1.5046 - val_loss: 1.6222 - val_root_mean_squared_error: 1.2736\n",
            "Epoch 20/20\n",
            "146/146 [==============================] - 1s 8ms/step - loss: 2.0501 - root_mean_squared_error: 1.4318 - val_loss: 1.8813 - val_root_mean_squared_error: 1.3716\n"
          ]
        },
        {
          "output_type": "execute_result",
          "data": {
            "text/plain": [
              "<keras.callbacks.History at 0x7f9e5ee50c40>"
            ]
          },
          "metadata": {},
          "execution_count": 164
        }
      ],
      "id": "BzB6BUOQfivn"
    },
    {
      "cell_type": "code",
      "metadata": {
        "id": "ce7IDQ5ANU5l"
      },
      "source": [
        "gru_model = load_model('gru_model/')"
      ],
      "execution_count": null,
      "outputs": [],
      "id": "ce7IDQ5ANU5l"
    },
    {
      "cell_type": "code",
      "metadata": {
        "colab": {
          "base_uri": "https://localhost:8080/",
          "height": 441
        },
        "outputId": "9bf21d3a-f091-48b1-8e0a-f4f9000ad65b",
        "id": "Ydo6c8DJNU5x"
      },
      "source": [
        "train_predictions = gru_model.predict(X1_train).flatten()\n",
        "train_results = pd.DataFrame(data={'Train Predictions':train_predictions, 'Actuals':y1_train})\n",
        "train_results"
      ],
      "execution_count": null,
      "outputs": [
        {
          "output_type": "stream",
          "name": "stdout",
          "text": [
            "146/146 [==============================] - 1s 2ms/step\n"
          ]
        },
        {
          "output_type": "execute_result",
          "data": {
            "text/plain": [
              "      Train Predictions    Actuals\n",
              "0             79.944176  79.376909\n",
              "1             80.639397  83.855121\n",
              "2             80.454178  80.243575\n",
              "3             80.852455  84.388454\n",
              "4             80.847183  79.910242\n",
              "...                 ...        ...\n",
              "4647          77.839340  78.400000\n",
              "4648          78.438133  76.666667\n",
              "4649          77.346069  76.600000\n",
              "4650          76.668144  75.533333\n",
              "4651          76.044037  76.266667\n",
              "\n",
              "[4652 rows x 2 columns]"
            ],
            "text/html": [
              "\n",
              "  <div id=\"df-e3d6a2ac-ff76-42ac-bb87-6d31a4f79b69\">\n",
              "    <div class=\"colab-df-container\">\n",
              "      <div>\n",
              "<style scoped>\n",
              "    .dataframe tbody tr th:only-of-type {\n",
              "        vertical-align: middle;\n",
              "    }\n",
              "\n",
              "    .dataframe tbody tr th {\n",
              "        vertical-align: top;\n",
              "    }\n",
              "\n",
              "    .dataframe thead th {\n",
              "        text-align: right;\n",
              "    }\n",
              "</style>\n",
              "<table border=\"1\" class=\"dataframe\">\n",
              "  <thead>\n",
              "    <tr style=\"text-align: right;\">\n",
              "      <th></th>\n",
              "      <th>Train Predictions</th>\n",
              "      <th>Actuals</th>\n",
              "    </tr>\n",
              "  </thead>\n",
              "  <tbody>\n",
              "    <tr>\n",
              "      <th>0</th>\n",
              "      <td>79.944176</td>\n",
              "      <td>79.376909</td>\n",
              "    </tr>\n",
              "    <tr>\n",
              "      <th>1</th>\n",
              "      <td>80.639397</td>\n",
              "      <td>83.855121</td>\n",
              "    </tr>\n",
              "    <tr>\n",
              "      <th>2</th>\n",
              "      <td>80.454178</td>\n",
              "      <td>80.243575</td>\n",
              "    </tr>\n",
              "    <tr>\n",
              "      <th>3</th>\n",
              "      <td>80.852455</td>\n",
              "      <td>84.388454</td>\n",
              "    </tr>\n",
              "    <tr>\n",
              "      <th>4</th>\n",
              "      <td>80.847183</td>\n",
              "      <td>79.910242</td>\n",
              "    </tr>\n",
              "    <tr>\n",
              "      <th>...</th>\n",
              "      <td>...</td>\n",
              "      <td>...</td>\n",
              "    </tr>\n",
              "    <tr>\n",
              "      <th>4647</th>\n",
              "      <td>77.839340</td>\n",
              "      <td>78.400000</td>\n",
              "    </tr>\n",
              "    <tr>\n",
              "      <th>4648</th>\n",
              "      <td>78.438133</td>\n",
              "      <td>76.666667</td>\n",
              "    </tr>\n",
              "    <tr>\n",
              "      <th>4649</th>\n",
              "      <td>77.346069</td>\n",
              "      <td>76.600000</td>\n",
              "    </tr>\n",
              "    <tr>\n",
              "      <th>4650</th>\n",
              "      <td>76.668144</td>\n",
              "      <td>75.533333</td>\n",
              "    </tr>\n",
              "    <tr>\n",
              "      <th>4651</th>\n",
              "      <td>76.044037</td>\n",
              "      <td>76.266667</td>\n",
              "    </tr>\n",
              "  </tbody>\n",
              "</table>\n",
              "<p>4652 rows × 2 columns</p>\n",
              "</div>\n",
              "      <button class=\"colab-df-convert\" onclick=\"convertToInteractive('df-e3d6a2ac-ff76-42ac-bb87-6d31a4f79b69')\"\n",
              "              title=\"Convert this dataframe to an interactive table.\"\n",
              "              style=\"display:none;\">\n",
              "        \n",
              "  <svg xmlns=\"http://www.w3.org/2000/svg\" height=\"24px\"viewBox=\"0 0 24 24\"\n",
              "       width=\"24px\">\n",
              "    <path d=\"M0 0h24v24H0V0z\" fill=\"none\"/>\n",
              "    <path d=\"M18.56 5.44l.94 2.06.94-2.06 2.06-.94-2.06-.94-.94-2.06-.94 2.06-2.06.94zm-11 1L8.5 8.5l.94-2.06 2.06-.94-2.06-.94L8.5 2.5l-.94 2.06-2.06.94zm10 10l.94 2.06.94-2.06 2.06-.94-2.06-.94-.94-2.06-.94 2.06-2.06.94z\"/><path d=\"M17.41 7.96l-1.37-1.37c-.4-.4-.92-.59-1.43-.59-.52 0-1.04.2-1.43.59L10.3 9.45l-7.72 7.72c-.78.78-.78 2.05 0 2.83L4 21.41c.39.39.9.59 1.41.59.51 0 1.02-.2 1.41-.59l7.78-7.78 2.81-2.81c.8-.78.8-2.07 0-2.86zM5.41 20L4 18.59l7.72-7.72 1.47 1.35L5.41 20z\"/>\n",
              "  </svg>\n",
              "      </button>\n",
              "      \n",
              "  <style>\n",
              "    .colab-df-container {\n",
              "      display:flex;\n",
              "      flex-wrap:wrap;\n",
              "      gap: 12px;\n",
              "    }\n",
              "\n",
              "    .colab-df-convert {\n",
              "      background-color: #E8F0FE;\n",
              "      border: none;\n",
              "      border-radius: 50%;\n",
              "      cursor: pointer;\n",
              "      display: none;\n",
              "      fill: #1967D2;\n",
              "      height: 32px;\n",
              "      padding: 0 0 0 0;\n",
              "      width: 32px;\n",
              "    }\n",
              "\n",
              "    .colab-df-convert:hover {\n",
              "      background-color: #E2EBFA;\n",
              "      box-shadow: 0px 1px 2px rgba(60, 64, 67, 0.3), 0px 1px 3px 1px rgba(60, 64, 67, 0.15);\n",
              "      fill: #174EA6;\n",
              "    }\n",
              "\n",
              "    [theme=dark] .colab-df-convert {\n",
              "      background-color: #3B4455;\n",
              "      fill: #D2E3FC;\n",
              "    }\n",
              "\n",
              "    [theme=dark] .colab-df-convert:hover {\n",
              "      background-color: #434B5C;\n",
              "      box-shadow: 0px 1px 3px 1px rgba(0, 0, 0, 0.15);\n",
              "      filter: drop-shadow(0px 1px 2px rgba(0, 0, 0, 0.3));\n",
              "      fill: #FFFFFF;\n",
              "    }\n",
              "  </style>\n",
              "\n",
              "      <script>\n",
              "        const buttonEl =\n",
              "          document.querySelector('#df-e3d6a2ac-ff76-42ac-bb87-6d31a4f79b69 button.colab-df-convert');\n",
              "        buttonEl.style.display =\n",
              "          google.colab.kernel.accessAllowed ? 'block' : 'none';\n",
              "\n",
              "        async function convertToInteractive(key) {\n",
              "          const element = document.querySelector('#df-e3d6a2ac-ff76-42ac-bb87-6d31a4f79b69');\n",
              "          const dataTable =\n",
              "            await google.colab.kernel.invokeFunction('convertToInteractive',\n",
              "                                                     [key], {});\n",
              "          if (!dataTable) return;\n",
              "\n",
              "          const docLinkHtml = 'Like what you see? Visit the ' +\n",
              "            '<a target=\"_blank\" href=https://colab.research.google.com/notebooks/data_table.ipynb>data table notebook</a>'\n",
              "            + ' to learn more about interactive tables.';\n",
              "          element.innerHTML = '';\n",
              "          dataTable['output_type'] = 'display_data';\n",
              "          await google.colab.output.renderOutput(dataTable, element);\n",
              "          const docLink = document.createElement('div');\n",
              "          docLink.innerHTML = docLinkHtml;\n",
              "          element.appendChild(docLink);\n",
              "        }\n",
              "      </script>\n",
              "    </div>\n",
              "  </div>\n",
              "  "
            ]
          },
          "metadata": {},
          "execution_count": 166
        }
      ],
      "id": "Ydo6c8DJNU5x"
    },
    {
      "cell_type": "code",
      "metadata": {
        "colab": {
          "base_uri": "https://localhost:8080/",
          "height": 447
        },
        "outputId": "3a213ce0-49cc-456c-f6c8-4c35908ef4b8",
        "id": "7ctYWraTNU5x"
      },
      "source": [
        "import matplotlib.pyplot as plt\n",
        "plt.plot(train_results['Train Predictions'][2600:2700])\n",
        "plt.plot(train_results['Actuals'][2600:2700])\n",
        "plt.legend(['Train Predictions', 'Actuals'])\n",
        "print('MSE for Univariate GRU model (train):', mse(train_results['Actuals'],train_results['Train Predictions']))\n",
        "plt.show()"
      ],
      "execution_count": null,
      "outputs": [
        {
          "output_type": "stream",
          "name": "stdout",
          "text": [
            "MSE for Univariate GRU model (train): 1.9277707653905836\n"
          ]
        },
        {
          "output_type": "display_data",
          "data": {
            "text/plain": [
              "<Figure size 640x480 with 1 Axes>"
            ],
            "image/png": "[encoded data removed]"
          },
          "metadata": {}
        }
      ],
      "id": "7ctYWraTNU5x"
    },
    {
      "cell_type": "code",
      "metadata": {
        "colab": {
          "base_uri": "https://localhost:8080/",
          "height": 441
        },
        "outputId": "c143b637-8e19-4884-e4fb-b2e3e94fb777",
        "id": "HFNuLJ8eNU5y"
      },
      "source": [
        "val_predictions = gru_model.predict(X1_val).flatten()\n",
        "val_results = pd.DataFrame(data={'Val Predictions':val_predictions, 'Actuals':y1_val})\n",
        "val_results"
      ],
      "execution_count": null,
      "outputs": [
        {
          "output_type": "stream",
          "name": "stdout",
          "text": [
            "19/19 [==============================] - 0s 2ms/step\n"
          ]
        },
        {
          "output_type": "execute_result",
          "data": {
            "text/plain": [
              "     Val Predictions    Actuals\n",
              "0          76.502426  76.266667\n",
              "1          76.673813  76.733333\n",
              "2          76.981087  75.933333\n",
              "3          76.462029  75.533333\n",
              "4          75.919289  75.466667\n",
              "..               ...        ...\n",
              "576        78.082115  80.666667\n",
              "577        79.951103  78.000000\n",
              "578        79.203484  74.466667\n",
              "579        74.411186  73.200000\n",
              "580        73.668022  72.866667\n",
              "\n",
              "[581 rows x 2 columns]"
            ],
            "text/html": [
              "\n",
              "  <div id=\"df-43acd13b-16b5-4a15-a2dc-ca7f0c540a0d\">\n",
              "    <div class=\"colab-df-container\">\n",
              "      <div>\n",
              "<style scoped>\n",
              "    .dataframe tbody tr th:only-of-type {\n",
              "        vertical-align: middle;\n",
              "    }\n",
              "\n",
              "    .dataframe tbody tr th {\n",
              "        vertical-align: top;\n",
              "    }\n",
              "\n",
              "    .dataframe thead th {\n",
              "        text-align: right;\n",
              "    }\n",
              "</style>\n",
              "<table border=\"1\" class=\"dataframe\">\n",
              "  <thead>\n",
              "    <tr style=\"text-align: right;\">\n",
              "      <th></th>\n",
              "      <th>Val Predictions</th>\n",
              "      <th>Actuals</th>\n",
              "    </tr>\n",
              "  </thead>\n",
              "  <tbody>\n",
              "    <tr>\n",
              "      <th>0</th>\n",
              "      <td>76.502426</td>\n",
              "      <td>76.266667</td>\n",
              "    </tr>\n",
              "    <tr>\n",
              "      <th>1</th>\n",
              "      <td>76.673813</td>\n",
              "      <td>76.733333</td>\n",
              "    </tr>\n",
              "    <tr>\n",
              "      <th>2</th>\n",
              "      <td>76.981087</td>\n",
              "      <td>75.933333</td>\n",
              "    </tr>\n",
              "    <tr>\n",
              "      <th>3</th>\n",
              "      <td>76.462029</td>\n",
              "      <td>75.533333</td>\n",
              "    </tr>\n",
              "    <tr>\n",
              "      <th>4</th>\n",
              "      <td>75.919289</td>\n",
              "      <td>75.466667</td>\n",
              "    </tr>\n",
              "    <tr>\n",
              "      <th>...</th>\n",
              "      <td>...</td>\n",
              "      <td>...</td>\n",
              "    </tr>\n",
              "    <tr>\n",
              "      <th>576</th>\n",
              "      <td>78.082115</td>\n",
              "      <td>80.666667</td>\n",
              "    </tr>\n",
              "    <tr>\n",
              "      <th>577</th>\n",
              "      <td>79.951103</td>\n",
              "      <td>78.000000</td>\n",
              "    </tr>\n",
              "    <tr>\n",
              "      <th>578</th>\n",
              "      <td>79.203484</td>\n",
              "      <td>74.466667</td>\n",
              "    </tr>\n",
              "    <tr>\n",
              "      <th>579</th>\n",
              "      <td>74.411186</td>\n",
              "      <td>73.200000</td>\n",
              "    </tr>\n",
              "    <tr>\n",
              "      <th>580</th>\n",
              "      <td>73.668022</td>\n",
              "      <td>72.866667</td>\n",
              "    </tr>\n",
              "  </tbody>\n",
              "</table>\n",
              "<p>581 rows × 2 columns</p>\n",
              "</div>\n",
              "      <button class=\"colab-df-convert\" onclick=\"convertToInteractive('df-43acd13b-16b5-4a15-a2dc-ca7f0c540a0d')\"\n",
              "              title=\"Convert this dataframe to an interactive table.\"\n",
              "              style=\"display:none;\">\n",
              "        \n",
              "  <svg xmlns=\"http://www.w3.org/2000/svg\" height=\"24px\"viewBox=\"0 0 24 24\"\n",
              "       width=\"24px\">\n",
              "    <path d=\"M0 0h24v24H0V0z\" fill=\"none\"/>\n",
              "    <path d=\"M18.56 5.44l.94 2.06.94-2.06 2.06-.94-2.06-.94-.94-2.06-.94 2.06-2.06.94zm-11 1L8.5 8.5l.94-2.06 2.06-.94-2.06-.94L8.5 2.5l-.94 2.06-2.06.94zm10 10l.94 2.06.94-2.06 2.06-.94-2.06-.94-.94-2.06-.94 2.06-2.06.94z\"/><path d=\"M17.41 7.96l-1.37-1.37c-.4-.4-.92-.59-1.43-.59-.52 0-1.04.2-1.43.59L10.3 9.45l-7.72 7.72c-.78.78-.78 2.05 0 2.83L4 21.41c.39.39.9.59 1.41.59.51 0 1.02-.2 1.41-.59l7.78-7.78 2.81-2.81c.8-.78.8-2.07 0-2.86zM5.41 20L4 18.59l7.72-7.72 1.47 1.35L5.41 20z\"/>\n",
              "  </svg>\n",
              "      </button>\n",
              "      \n",
              "  <style>\n",
              "    .colab-df-container {\n",
              "      display:flex;\n",
              "      flex-wrap:wrap;\n",
              "      gap: 12px;\n",
              "    }\n",
              "\n",
              "    .colab-df-convert {\n",
              "      background-color: #E8F0FE;\n",
              "      border: none;\n",
              "      border-radius: 50%;\n",
              "      cursor: pointer;\n",
              "      display: none;\n",
              "      fill: #1967D2;\n",
              "      height: 32px;\n",
              "      padding: 0 0 0 0;\n",
              "      width: 32px;\n",
              "    }\n",
              "\n",
              "    .colab-df-convert:hover {\n",
              "      background-color: #E2EBFA;\n",
              "      box-shadow: 0px 1px 2px rgba(60, 64, 67, 0.3), 0px 1px 3px 1px rgba(60, 64, 67, 0.15);\n",
              "      fill: #174EA6;\n",
              "    }\n",
              "\n",
              "    [theme=dark] .colab-df-convert {\n",
              "      background-color: #3B4455;\n",
              "      fill: #D2E3FC;\n",
              "    }\n",
              "\n",
              "    [theme=dark] .colab-df-convert:hover {\n",
              "      background-color: #434B5C;\n",
              "      box-shadow: 0px 1px 3px 1px rgba(0, 0, 0, 0.15);\n",
              "      filter: drop-shadow(0px 1px 2px rgba(0, 0, 0, 0.3));\n",
              "      fill: #FFFFFF;\n",
              "    }\n",
              "  </style>\n",
              "\n",
              "      <script>\n",
              "        const buttonEl =\n",
              "          document.querySelector('#df-43acd13b-16b5-4a15-a2dc-ca7f0c540a0d button.colab-df-convert');\n",
              "        buttonEl.style.display =\n",
              "          google.colab.kernel.accessAllowed ? 'block' : 'none';\n",
              "\n",
              "        async function convertToInteractive(key) {\n",
              "          const element = document.querySelector('#df-43acd13b-16b5-4a15-a2dc-ca7f0c540a0d');\n",
              "          const dataTable =\n",
              "            await google.colab.kernel.invokeFunction('convertToInteractive',\n",
              "                                                     [key], {});\n",
              "          if (!dataTable) return;\n",
              "\n",
              "          const docLinkHtml = 'Like what you see? Visit the ' +\n",
              "            '<a target=\"_blank\" href=https://colab.research.google.com/notebooks/data_table.ipynb>data table notebook</a>'\n",
              "            + ' to learn more about interactive tables.';\n",
              "          element.innerHTML = '';\n",
              "          dataTable['output_type'] = 'display_data';\n",
              "          await google.colab.output.renderOutput(dataTable, element);\n",
              "          const docLink = document.createElement('div');\n",
              "          docLink.innerHTML = docLinkHtml;\n",
              "          element.appendChild(docLink);\n",
              "        }\n",
              "      </script>\n",
              "    </div>\n",
              "  </div>\n",
              "  "
            ]
          },
          "metadata": {},
          "execution_count": 168
        }
      ],
      "id": "HFNuLJ8eNU5y"
    },
    {
      "cell_type": "code",
      "metadata": {
        "colab": {
          "base_uri": "https://localhost:8080/",
          "height": 447
        },
        "outputId": "2f9169a4-fd8d-452a-df7b-828d28976a2b",
        "id": "Yadd8Hn1NU5y"
      },
      "source": [
        "plt.plot(val_results['Val Predictions'][:100])\n",
        "plt.plot(val_results['Actuals'][:100])\n",
        "plt.legend(['Validation Predictions', 'Actuals'])\n",
        "print('MSE for Univariate GRU model (validation):', mse(val_results['Actuals'],val_results['Val Predictions']))\n",
        "plt.show()"
      ],
      "execution_count": null,
      "outputs": [
        {
          "output_type": "stream",
          "name": "stdout",
          "text": [
            "MSE for Univariate GRU model (validation): 1.6221717047944566\n"
          ]
        },
        {
          "output_type": "display_data",
          "data": {
            "text/plain": [
              "<Figure size 640x480 with 1 Axes>"
            ],
            "image/png": "[encoded data removed]"
          },
          "metadata": {}
        }
      ],
      "id": "Yadd8Hn1NU5y"
    },
    {
      "cell_type": "code",
      "metadata": {
        "colab": {
          "base_uri": "https://localhost:8080/",
          "height": 441
        },
        "outputId": "9ef8757d-7d52-4c66-e6a3-9052a0a65dcb",
        "id": "QQ4bCsTjNU5y"
      },
      "source": [
        "test_predictions = gru_model.predict(X1_test).flatten()\n",
        "test_results = pd.DataFrame(data={'Test Predictions':test_predictions, 'Actuals':y1_test})\n",
        "test_results"
      ],
      "execution_count": null,
      "outputs": [
        {
          "output_type": "stream",
          "name": "stdout",
          "text": [
            "19/19 [==============================] - 0s 2ms/step\n"
          ]
        },
        {
          "output_type": "execute_result",
          "data": {
            "text/plain": [
              "     Test Predictions    Actuals\n",
              "0           73.263107  76.400000\n",
              "1           76.395737  75.733333\n",
              "2           76.412941  75.733333\n",
              "3           76.101578  73.800000\n",
              "4           74.381416  74.333333\n",
              "..                ...        ...\n",
              "577         75.326973  75.400000\n",
              "578         75.833984  76.800000\n",
              "579         76.912674  75.066667\n",
              "580         75.771233  74.533333\n",
              "581         74.881859  76.000000\n",
              "\n",
              "[582 rows x 2 columns]"
            ],
            "text/html": [
              "\n",
              "  <div id=\"df-f24f412b-17ab-4415-83d2-e135fd37c34d\">\n",
              "    <div class=\"colab-df-container\">\n",
              "      <div>\n",
              "<style scoped>\n",
              "    .dataframe tbody tr th:only-of-type {\n",
              "        vertical-align: middle;\n",
              "    }\n",
              "\n",
              "    .dataframe tbody tr th {\n",
              "        vertical-align: top;\n",
              "    }\n",
              "\n",
              "    .dataframe thead th {\n",
              "        text-align: right;\n",
              "    }\n",
              "</style>\n",
              "<table border=\"1\" class=\"dataframe\">\n",
              "  <thead>\n",
              "    <tr style=\"text-align: right;\">\n",
              "      <th></th>\n",
              "      <th>Test Predictions</th>\n",
              "      <th>Actuals</th>\n",
              "    </tr>\n",
              "  </thead>\n",
              "  <tbody>\n",
              "    <tr>\n",
              "      <th>0</th>\n",
              "      <td>73.263107</td>\n",
              "      <td>76.400000</td>\n",
              "    </tr>\n",
              "    <tr>\n",
              "      <th>1</th>\n",
              "      <td>76.395737</td>\n",
              "      <td>75.733333</td>\n",
              "    </tr>\n",
              "    <tr>\n",
              "      <th>2</th>\n",
              "      <td>76.412941</td>\n",
              "      <td>75.733333</td>\n",
              "    </tr>\n",
              "    <tr>\n",
              "      <th>3</th>\n",
              "      <td>76.101578</td>\n",
              "      <td>73.800000</td>\n",
              "    </tr>\n",
              "    <tr>\n",
              "      <th>4</th>\n",
              "      <td>74.381416</td>\n",
              "      <td>74.333333</td>\n",
              "    </tr>\n",
              "    <tr>\n",
              "      <th>...</th>\n",
              "      <td>...</td>\n",
              "      <td>...</td>\n",
              "    </tr>\n",
              "    <tr>\n",
              "      <th>577</th>\n",
              "      <td>75.326973</td>\n",
              "      <td>75.400000</td>\n",
              "    </tr>\n",
              "    <tr>\n",
              "      <th>578</th>\n",
              "      <td>75.833984</td>\n",
              "      <td>76.800000</td>\n",
              "    </tr>\n",
              "    <tr>\n",
              "      <th>579</th>\n",
              "      <td>76.912674</td>\n",
              "      <td>75.066667</td>\n",
              "    </tr>\n",
              "    <tr>\n",
              "      <th>580</th>\n",
              "      <td>75.771233</td>\n",
              "      <td>74.533333</td>\n",
              "    </tr>\n",
              "    <tr>\n",
              "      <th>581</th>\n",
              "      <td>74.881859</td>\n",
              "      <td>76.000000</td>\n",
              "    </tr>\n",
              "  </tbody>\n",
              "</table>\n",
              "<p>582 rows × 2 columns</p>\n",
              "</div>\n",
              "      <button class=\"colab-df-convert\" onclick=\"convertToInteractive('df-f24f412b-17ab-4415-83d2-e135fd37c34d')\"\n",
              "              title=\"Convert this dataframe to an interactive table.\"\n",
              "              style=\"display:none;\">\n",
              "        \n",
              "  <svg xmlns=\"http://www.w3.org/2000/svg\" height=\"24px\"viewBox=\"0 0 24 24\"\n",
              "       width=\"24px\">\n",
              "    <path d=\"M0 0h24v24H0V0z\" fill=\"none\"/>\n",
              "    <path d=\"M18.56 5.44l.94 2.06.94-2.06 2.06-.94-2.06-.94-.94-2.06-.94 2.06-2.06.94zm-11 1L8.5 8.5l.94-2.06 2.06-.94-2.06-.94L8.5 2.5l-.94 2.06-2.06.94zm10 10l.94 2.06.94-2.06 2.06-.94-2.06-.94-.94-2.06-.94 2.06-2.06.94z\"/><path d=\"M17.41 7.96l-1.37-1.37c-.4-.4-.92-.59-1.43-.59-.52 0-1.04.2-1.43.59L10.3 9.45l-7.72 7.72c-.78.78-.78 2.05 0 2.83L4 21.41c.39.39.9.59 1.41.59.51 0 1.02-.2 1.41-.59l7.78-7.78 2.81-2.81c.8-.78.8-2.07 0-2.86zM5.41 20L4 18.59l7.72-7.72 1.47 1.35L5.41 20z\"/>\n",
              "  </svg>\n",
              "      </button>\n",
              "      \n",
              "  <style>\n",
              "    .colab-df-container {\n",
              "      display:flex;\n",
              "      flex-wrap:wrap;\n",
              "      gap: 12px;\n",
              "    }\n",
              "\n",
              "    .colab-df-convert {\n",
              "      background-color: #E8F0FE;\n",
              "      border: none;\n",
              "      border-radius: 50%;\n",
              "      cursor: pointer;\n",
              "      display: none;\n",
              "      fill: #1967D2;\n",
              "      height: 32px;\n",
              "      padding: 0 0 0 0;\n",
              "      width: 32px;\n",
              "    }\n",
              "\n",
              "    .colab-df-convert:hover {\n",
              "      background-color: #E2EBFA;\n",
              "      box-shadow: 0px 1px 2px rgba(60, 64, 67, 0.3), 0px 1px 3px 1px rgba(60, 64, 67, 0.15);\n",
              "      fill: #174EA6;\n",
              "    }\n",
              "\n",
              "    [theme=dark] .colab-df-convert {\n",
              "      background-color: #3B4455;\n",
              "      fill: #D2E3FC;\n",
              "    }\n",
              "\n",
              "    [theme=dark] .colab-df-convert:hover {\n",
              "      background-color: #434B5C;\n",
              "      box-shadow: 0px 1px 3px 1px rgba(0, 0, 0, 0.15);\n",
              "      filter: drop-shadow(0px 1px 2px rgba(0, 0, 0, 0.3));\n",
              "      fill: #FFFFFF;\n",
              "    }\n",
              "  </style>\n",
              "\n",
              "      <script>\n",
              "        const buttonEl =\n",
              "          document.querySelector('#df-f24f412b-17ab-4415-83d2-e135fd37c34d button.colab-df-convert');\n",
              "        buttonEl.style.display =\n",
              "          google.colab.kernel.accessAllowed ? 'block' : 'none';\n",
              "\n",
              "        async function convertToInteractive(key) {\n",
              "          const element = document.querySelector('#df-f24f412b-17ab-4415-83d2-e135fd37c34d');\n",
              "          const dataTable =\n",
              "            await google.colab.kernel.invokeFunction('convertToInteractive',\n",
              "                                                     [key], {});\n",
              "          if (!dataTable) return;\n",
              "\n",
              "          const docLinkHtml = 'Like what you see? Visit the ' +\n",
              "            '<a target=\"_blank\" href=https://colab.research.google.com/notebooks/data_table.ipynb>data table notebook</a>'\n",
              "            + ' to learn more about interactive tables.';\n",
              "          element.innerHTML = '';\n",
              "          dataTable['output_type'] = 'display_data';\n",
              "          await google.colab.output.renderOutput(dataTable, element);\n",
              "          const docLink = document.createElement('div');\n",
              "          docLink.innerHTML = docLinkHtml;\n",
              "          element.appendChild(docLink);\n",
              "        }\n",
              "      </script>\n",
              "    </div>\n",
              "  </div>\n",
              "  "
            ]
          },
          "metadata": {},
          "execution_count": 170
        }
      ],
      "id": "QQ4bCsTjNU5y"
    },
    {
      "cell_type": "code",
      "metadata": {
        "colab": {
          "base_uri": "https://localhost:8080/",
          "height": 447
        },
        "outputId": "2172b471-6987-451e-ef1f-6d47da57a21d",
        "id": "quscWcU6NU5y"
      },
      "source": [
        "plt.plot(test_results['Test Predictions'][200:300])\n",
        "plt.plot(test_results['Actuals'][200:300])\n",
        "plt.legend(['Test Predictions', 'Actuals'])\n",
        "print('MSE for Univariate GRU model (test):', mse(test_results['Actuals'],test_results['Test Predictions']))\n",
        "plt.show()"
      ],
      "execution_count": null,
      "outputs": [
        {
          "output_type": "stream",
          "name": "stdout",
          "text": [
            "MSE for Univariate GRU model (test): 2.860045507647697\n"
          ]
        },
        {
          "output_type": "display_data",
          "data": {
            "text/plain": [
              "<Figure size 640x480 with 1 Axes>"
            ],
            "image/png": "[encoded data removed]"
          },
          "metadata": {}
        }
      ],
      "id": "quscWcU6NU5y"
    }
  ],
  "metadata": {
    "kernelspec": {
      "display_name": "Python 3",
      "language": "python",
      "name": "python3"
    },
    "language_info": {
      "codemirror_mode": {
        "name": "ipython",
        "version": 3
      },
      "file_extension": ".py",
      "mimetype": "text/x-python",
      "name": "python",
      "nbconvert_exporter": "python",
      "pygments_lexer": "ipython3",
      "version": "3.8.8"
    },
    "colab": {
      "provenance": [],
      "collapsed_sections": [
        "p47QNXG4V4SO",
        "qK1XtShFWgMI",
        "6YygO6MAtdia",
        "6tUa0wnwrgPQ",
        "zEdf92eoeiHP"
      ]
    }
  },
  "nbformat": 4,
  "nbformat_minor": 5
}